{
  "nbformat": 4,
  "nbformat_minor": 0,
  "metadata": {
    "colab": {
      "name": "IMU_BiomecZoo_AI.ipynb",
      "provenance": [],
      "authorship_tag": "ABX9TyN2b+4MibHSELrtCuc3jMZx",
      "include_colab_link": true
    },
    "kernelspec": {
      "name": "python3",
      "display_name": "Python 3"
    },
    "language_info": {
      "name": "python"
    }
  },
  "cells": [
    {
      "cell_type": "markdown",
      "metadata": {
        "id": "view-in-github",
        "colab_type": "text"
      },
      "source": [
        "<a href=\"https://colab.research.google.com/github/Gab2697/Surface-classification-EMG-IMU/blob/main/IMU_BiomecZoo_AI.ipynb\" target=\"_parent\"><img src=\"https://colab.research.google.com/assets/colab-badge.svg\" alt=\"Open In Colab\"/></a>"
      ]
    },
    {
      "cell_type": "code",
      "source": [
        "#import\n",
        "import pandas as pd\n",
        "import tensorflow as tf\n",
        "import numpy as np\n",
        "import pickle\n",
        "import matplotlib.pyplot as plt\n",
        "from scipy.io import loadmat\n",
        "\n",
        "from keras import layers \n",
        "from keras import models\n",
        "from keras import regularizers\n",
        "import glob\n",
        "\n",
        "from sklearn.model_selection import KFold\n",
        "from tensorflow.keras.models import Sequential\n",
        "from tensorflow.keras.layers import Dense, Flatten, Conv1D, MaxPooling1D, Dropout\n",
        "from tensorflow.keras.losses import binary_crossentropy, categorical_crossentropy\n",
        "from tensorflow.keras.optimizers import Adam, SGD, RMSprop"
      ],
      "metadata": {
        "id": "cj7CIfKL2kvj"
      },
      "execution_count": 1,
      "outputs": []
    },
    {
      "cell_type": "code",
      "source": [
        "from google.colab import drive\n",
        "drive.mount('/content/drive')"
      ],
      "metadata": {
        "colab": {
          "base_uri": "https://localhost:8080/"
        },
        "id": "7EowbmE82dD0",
        "outputId": "fd41714a-56c2-4fea-9c2c-d0ef5ed71b76"
      },
      "execution_count": 2,
      "outputs": [
        {
          "output_type": "stream",
          "name": "stdout",
          "text": [
            "Drive already mounted at /content/drive; to attempt to forcibly remount, call drive.mount(\"/content/drive\", force_remount=True).\n"
          ]
        }
      ]
    },
    {
      "cell_type": "markdown",
      "source": [
        "#Functions"
      ],
      "metadata": {
        "id": "iaK4A4rxo783"
      }
    },
    {
      "cell_type": "code",
      "source": [
        "#================================mat to tensor================================\n",
        "def mat_to_tensor(path_mat):\n",
        "  data=loadmat(path_mat)\n",
        "  keys=list(data['data'].dtype.fields.keys())\n",
        "  da=np.array(data['data'][keys[0]])\n",
        "  for i in range(1,len(keys)-2):\n",
        "      da=np.append(da,data['data'][keys[i]],axis=1)\n",
        "  da=np.append(da,data['data'][keys[-2]],axis=1)\n",
        "  da=np.append(da,data['data'][keys[-1]],axis=1)\n",
        "  da=pd.DataFrame(da,columns=keys)\n",
        "  Participant= da['Subject']\n",
        "  Surface= da['Conditions'] \n",
        "  # from 2d to 3d\n",
        "  Ndata=da\n",
        "  Parameters=Ndata.keys()\n",
        "  GC_len=Ndata.iloc[1,1].shape[0]\n",
        "  data1=np.zeros([Ndata.shape[0],GC_len,len(Parameters)-2])\n",
        "  for i in range(len(Parameters)-2):\n",
        "    for j in range(len(Ndata[Parameters[i]])):\n",
        "      data1[j,:,i]=Ndata[Parameters[i]].to_numpy()[j].reshape(GC_len)\n",
        "  return data1,Participant,Surface\n",
        "#================================Save pickle file================================\n",
        "def save_pickle(path_pickle,T):\n",
        "    f = open(path_pickle, 'wb')\n",
        "    pickle.dump(T, f)\n",
        "    f.close()\n",
        "\n",
        "    return f \n",
        "#================================Open pickle file================================\n",
        "def open_pickle(path_pickle):\n",
        "    f = open(path_pickle, 'rb')\n",
        "    T = pickle.load(f)\n",
        "    f.close()\n",
        "\n",
        "    return T\n",
        "#================================final prep CNN================================\n",
        "def final_prep(data, Surface, Participant):\n",
        "  train_index,test_index,extract=subject_wise_split(np.array(Participant),split=0.15,subject_wise=False,seed=5)\n",
        "  train_index,test_index=train_index.astype('int64'),test_index.astype('int64')   \n",
        "\n",
        "  X_train=data[train_index]\n",
        "  X_test=data[test_index]\n",
        "  y_train=Surface[train_index]\n",
        "  y_test=Surface[test_index]\n",
        "\n",
        "    #one hot encoding for label\n",
        "  X_train=np.asarray(X_train).astype(np.float32) \n",
        "  y_train=one_hot(y_train)\n",
        "  X_test=np.asarray(X_test).astype(np.float32) \n",
        "  y_test=one_hot(y_test)\n",
        "  return X_train,y_train,X_test,y_test\n",
        "  \n",
        "#================================subject wise split================================\n",
        "def subject_wise_split(Participant,subject_wise,split=0.10,seed=42):\n",
        "    np.random.seed(seed)\n",
        "    if subject_wise:\n",
        "        UniqParti=np.unique(Participant)\n",
        "        num=np.round(UniqParti.shape[0]*split).astype('int64')\n",
        "        np.random.shuffle(UniqParti)\n",
        "        extract=UniqParti[0:num]\n",
        "        test_index=np.array([],dtype='int64')\n",
        "        for j in extract:\n",
        "            test_index=np.append(test_index,np.where(Participant==j)[0])\n",
        "        train_index=np.delete(np.arange(len(Participant)),test_index)\n",
        "        np.random.shuffle(test_index)\n",
        "        np.random.shuffle(train_index)\n",
        "\n",
        "    else:\n",
        "        I=np.arange(len(Participant)).astype('int64')\n",
        "        np.random.shuffle(I)\n",
        "        num=np.round(Participant.shape[0]*split).astype('int64')\n",
        "        test_index=I[0:num]\n",
        "        train_index=I[num:]\n",
        "        extract=np.unique(Participant[test_index])\n",
        "    return train_index,test_index,extract\n",
        "\n",
        "#================================One Hot encoding================================\n",
        "def one_hot(y):\n",
        "    uniq=np.unique(y)\n",
        "    y_hot=np.zeros([y.shape[0],uniq.shape[0]])\n",
        "    for i in range(len(uniq)):\n",
        "        index=np.where(y==uniq[i])[0]\n",
        "        y_hot[index,i]=1\n",
        "    surface_name=uniq\n",
        "    return y_hot\n",
        "#================================CNN================================\n",
        "def CNN_test(input_shape,output_shape):\n",
        "    model = tf.keras.models.Sequential()\n",
        "    model.add(Conv1D(filters=64, kernel_size=3, activation='relu', input_shape=input_shape))\n",
        "    model.add(Conv1D(filters=64, kernel_size=3, activation='relu'))\n",
        "    model.add(Dropout(0.5))\n",
        "    model.add(MaxPooling1D(pool_size=2))\n",
        "    model.add(Flatten())\n",
        "    model.add(Dense(100, activation='relu'))\n",
        "    model.add(Dense(2, activation='sigmoid'))\n",
        "    model.compile(loss='binary_crossentropy', optimizer='adam', metrics=['accuracy'])\n",
        "    return model"
      ],
      "metadata": {
        "id": "vCRmsomS2cwp"
      },
      "execution_count": 3,
      "outputs": []
    },
    {
      "cell_type": "code",
      "source": [
        "#P12345789\n",
        "data_12345789,Participant_12345789,Surface_12345789=mat_to_tensor('/content/drive/MyDrive/Gab/mat files/P12345789.mat')\n",
        "data_28,Participant_28,Surface_28=mat_to_tensor('/content/drive/MyDrive/Gab/mat files/P28.mat')"
      ],
      "metadata": {
        "id": "GGRv_U2Ybpsl"
      },
      "execution_count": null,
      "outputs": []
    },
    {
      "cell_type": "code",
      "source": [
        "#call function tensor\n",
        "data_10,Participant_10,Surface_10=mat_to_tensor('/content/drive/MyDrive/Gab/mat files/P10.mat')\n",
        "data_11,Participant_11,Surface_11=mat_to_tensor('/content/drive/MyDrive/Gab/mat files/P11.mat')\n",
        "data_12_13_14_15,Participant_12_13_14_15,Surface_12_13_14_15=mat_to_tensor('/content/drive/MyDrive/Gab/mat files/P12_13_14_15_.mat')\n",
        "data_15_16_17_18_19,Participant_15_16_17_18_19,Surface_15_16_17_18_19=mat_to_tensor('/content/drive/MyDrive/Gab/mat files/P15_16_17_18_19.mat')\n",
        "data_20,Participant_20,Surface_20=mat_to_tensor('/content/drive/MyDrive/Gab/mat files/P20.mat')\n",
        "data_21_22,Participant_21_22,Surface_21_22=mat_to_tensor('/content/drive/MyDrive/Gab/mat files/P21_22.mat')\n",
        "data_24_25,Participant_24_25,Surface_24_25=mat_to_tensor('/content/drive/MyDrive/Gab/mat files/P24_25.mat')\n",
        "data_26,Participant_26,Surface_26=mat_to_tensor('/content/drive/MyDrive/Gab/mat files/P26.mat')\n",
        "data_27,Participant_27,Surface_27=mat_to_tensor('/content/drive/MyDrive/Gab/mat files/P27.mat')\n"
      ],
      "metadata": {
        "id": "R0zO4dmXwh1I"
      },
      "execution_count": 4,
      "outputs": []
    },
    {
      "cell_type": "code",
      "source": [
        "#Combine all data\n",
        "ALL_data= tf.concat([data_10,data_11,data_12_13_14_15,data_15_16_17_18_19,data_20,data_21_22,data_24_25,data_26,data_27], axis=0)\n",
        "ALL_Surfaces=(((((Surface_10.append(Surface_11)).append(Surface_12_13_14_15)).append(Surface_15_16_17_18_19)).append(Surface_20)).append(Surface_21_22)).append(Surface_24_25)).append(Surface_26)).append(Surface_27)\n",
        "ALL_Participants_numb=(((((Participant_10.append(Participant_11)).append(Participant_12_13_14_15)).append(Participant_15_16_17_18_19)).append(Participant_20)).append(Participant_21_22)).append(Participant_24_25)).append(Participant_26)).append(Participant_27)\n",
        "           \n",
        "print(\"Tensor_all shape:\", ALL_data.shape)"
      ],
      "metadata": {
        "colab": {
          "base_uri": "https://localhost:8080/"
        },
        "id": "9BpYK2WL1PW6",
        "outputId": "8ffadbf7-2029-4e48-ec8d-e0343fe78d64"
      },
      "execution_count": 5,
      "outputs": [
        {
          "output_type": "stream",
          "name": "stdout",
          "text": [
            "Tensor_all shape: (26730, 101, 123)\n"
          ]
        }
      ]
    },
    {
      "cell_type": "code",
      "source": [
        "#Combine all data 2 \n",
        "ALL_data2= tf.concat([data_12345789,data_28,], axis=0)\n",
        "ALL_Surfaces2=Surface_12345789.append(Surface_28)\n",
        "ALL_Participants_numb2=Participant_12345789.append(Participant_28)\n",
        "           \n",
        "print(\"Tensor_all shape:\", ALL_data2.shape)"
      ],
      "metadata": {
        "id": "D9Ry0CxXbikz"
      },
      "execution_count": null,
      "outputs": []
    },
    {
      "cell_type": "code",
      "source": [
        "#save pickle\n",
        "ALL_data=save_pickle('/content/drive/MyDrive/Gab/Variables_saved/IMU/ALL_data.pkl',ALL_data)\n",
        "ALL_Surfaces=save_pickle('/content/drive/MyDrive/Gab/Variables_saved/IMU/ALL_Surfaces.pkl',ALL_Surfaces)\n",
        "ALL_Participants_numb=save_pickle('/content/drive/MyDrive/Gab/Variables_saved/IMU/ALL_Participants_numb.pkl',ALL_Participants_numb)"
      ],
      "metadata": {
        "id": "TTBqBx1wNF08"
      },
      "execution_count": null,
      "outputs": []
    },
    {
      "cell_type": "code",
      "source": [
        "ALL_data2=save_pickle('/content/drive/MyDrive/Gab/Variables_saved/IMU/ALL_data2.pkl',ALL_data2)\n",
        "ALL_Surfaces2=save_pickle('/content/drive/MyDrive/Gab/Variables_saved/IMU/ALL_Surfaces2.pkl',ALL_Surfaces2)\n",
        "ALL_Participants_numb2=save_pickle('/content/drive/MyDrive/Gab/Variables_saved/IMU/ALL_Participants_numb2.pkl',ALL_Participants_numb2)"
      ],
      "metadata": {
        "id": "KywMhDdyc6r0"
      },
      "execution_count": null,
      "outputs": []
    },
    {
      "cell_type": "code",
      "source": [
        "#open pickle\n",
        "ALL_data=open_pickle('/content/drive/MyDrive/Gab/Variables_saved/IMU/ALL_data.pkl')\n",
        "ALL_Surfaces=open_pickle('/content/drive/MyDrive/Gab/Variables_saved/IMU/ALL_Surfaces.pkl')\n",
        "ALL_Participants_numb=open_pickle('/content/drive/MyDrive/Gab/Variables_saved/IMU/ALL_Participants_numb.pkl')\n",
        "\n",
        "ALL_data2=open_pickle('/content/drive/MyDrive/Gab/Variables_saved/IMU/ALL_data2.pkl')\n",
        "ALL_Surfaces2=open_pickle('/content/drive/MyDrive/Gab/Variables_saved/IMU/ALL_Surfaces2.pkl')\n",
        "ALL_Participants_numb2=open_pickle('/content/drive/MyDrive/Gab/Variables_saved/IMU/ALL_Participants_numb2.pkl')"
      ],
      "metadata": {
        "id": "L2pLgFlTfTiD"
      },
      "execution_count": 4,
      "outputs": []
    },
    {
      "cell_type": "code",
      "source": [
        "#Combine pickles for final tensor\n"
      ],
      "metadata": {
        "id": "lfcr0R39cySe"
      },
      "execution_count": null,
      "outputs": []
    },
    {
      "cell_type": "code",
      "source": [
        "#seperate train and test set function\n",
        "X_train,y_train,X_test,y_test=final_prep(ALL_data.numpy(), ALL_Surfaces.to_numpy(), ALL_Participants_numb.to_numpy())"
      ],
      "metadata": {
        "id": "cBBSIAL-P5fP"
      },
      "execution_count": 11,
      "outputs": []
    },
    {
      "cell_type": "markdown",
      "source": [
        "#CNN"
      ],
      "metadata": {
        "id": "XRtNrLEFziAo"
      }
    },
    {
      "cell_type": "code",
      "source": [
        "#call model\n",
        "model=CNN_test(X_train.shape[1:],2)\n",
        "#train model\n",
        "history= model.fit(X_train,y_train, epochs=50, batch_size=200,validation_data=(X_test,y_test)) "
      ],
      "metadata": {
        "colab": {
          "base_uri": "https://localhost:8080/"
        },
        "id": "jGa4cVUecebI",
        "outputId": "a250a39a-7d64-4254-e58f-bcf6951c2cb3"
      },
      "execution_count": 14,
      "outputs": [
        {
          "output_type": "stream",
          "name": "stdout",
          "text": [
            "Epoch 1/50\n",
            "80/80 [==============================] - 14s 156ms/step - loss: 2.5231 - accuracy: 0.5108 - val_loss: 0.6919 - val_accuracy: 0.5170\n",
            "Epoch 2/50\n",
            "80/80 [==============================] - 12s 152ms/step - loss: 0.6846 - accuracy: 0.5555 - val_loss: 0.6656 - val_accuracy: 0.6076\n",
            "Epoch 3/50\n",
            "80/80 [==============================] - 12s 152ms/step - loss: 0.6424 - accuracy: 0.6310 - val_loss: 0.6192 - val_accuracy: 0.6541\n",
            "Epoch 4/50\n",
            "80/80 [==============================] - 12s 152ms/step - loss: 0.5605 - accuracy: 0.7089 - val_loss: 0.5325 - val_accuracy: 0.7479\n",
            "Epoch 5/50\n",
            "80/80 [==============================] - 16s 196ms/step - loss: 0.4713 - accuracy: 0.7738 - val_loss: 0.4804 - val_accuracy: 0.7658\n",
            "Epoch 6/50\n",
            "80/80 [==============================] - 12s 154ms/step - loss: 0.3984 - accuracy: 0.8165 - val_loss: 0.3922 - val_accuracy: 0.8199\n",
            "Epoch 7/50\n",
            "80/80 [==============================] - 12s 152ms/step - loss: 0.3378 - accuracy: 0.8482 - val_loss: 0.3535 - val_accuracy: 0.8392\n",
            "Epoch 8/50\n",
            "80/80 [==============================] - 12s 154ms/step - loss: 0.3132 - accuracy: 0.8600 - val_loss: 0.3123 - val_accuracy: 0.8661\n",
            "Epoch 9/50\n",
            "80/80 [==============================] - 12s 153ms/step - loss: 0.2608 - accuracy: 0.8885 - val_loss: 0.3189 - val_accuracy: 0.8586\n",
            "Epoch 10/50\n",
            "80/80 [==============================] - 12s 154ms/step - loss: 0.2312 - accuracy: 0.9032 - val_loss: 0.2745 - val_accuracy: 0.8822\n",
            "Epoch 11/50\n",
            "80/80 [==============================] - 12s 154ms/step - loss: 0.1951 - accuracy: 0.9205 - val_loss: 0.2495 - val_accuracy: 0.8962\n",
            "Epoch 12/50\n",
            "80/80 [==============================] - 12s 154ms/step - loss: 0.1842 - accuracy: 0.9256 - val_loss: 0.2638 - val_accuracy: 0.8897\n",
            "Epoch 13/50\n",
            "80/80 [==============================] - 12s 154ms/step - loss: 0.1779 - accuracy: 0.9293 - val_loss: 0.2484 - val_accuracy: 0.8962\n",
            "Epoch 14/50\n",
            "80/80 [==============================] - 12s 154ms/step - loss: 0.1659 - accuracy: 0.9326 - val_loss: 0.2221 - val_accuracy: 0.9098\n",
            "Epoch 15/50\n",
            "80/80 [==============================] - 12s 155ms/step - loss: 0.1377 - accuracy: 0.9455 - val_loss: 0.2125 - val_accuracy: 0.9137\n",
            "Epoch 16/50\n",
            "80/80 [==============================] - 12s 153ms/step - loss: 0.1260 - accuracy: 0.9502 - val_loss: 0.2181 - val_accuracy: 0.9177\n",
            "Epoch 17/50\n",
            "80/80 [==============================] - 12s 152ms/step - loss: 0.1074 - accuracy: 0.9583 - val_loss: 0.2103 - val_accuracy: 0.9212\n",
            "Epoch 18/50\n",
            "80/80 [==============================] - 12s 153ms/step - loss: 0.1083 - accuracy: 0.9570 - val_loss: 0.2324 - val_accuracy: 0.9076\n",
            "Epoch 19/50\n",
            "80/80 [==============================] - 12s 152ms/step - loss: 0.1060 - accuracy: 0.9583 - val_loss: 0.2476 - val_accuracy: 0.9023\n",
            "Epoch 20/50\n",
            "80/80 [==============================] - 12s 152ms/step - loss: 0.0991 - accuracy: 0.9613 - val_loss: 0.2278 - val_accuracy: 0.9119\n",
            "Epoch 21/50\n",
            "80/80 [==============================] - 12s 153ms/step - loss: 0.0907 - accuracy: 0.9631 - val_loss: 0.2271 - val_accuracy: 0.9101\n",
            "Epoch 22/50\n",
            "80/80 [==============================] - 12s 151ms/step - loss: 0.0844 - accuracy: 0.9673 - val_loss: 0.2046 - val_accuracy: 0.9173\n",
            "Epoch 23/50\n",
            "80/80 [==============================] - 12s 152ms/step - loss: 0.0684 - accuracy: 0.9759 - val_loss: 0.1913 - val_accuracy: 0.9302\n",
            "Epoch 24/50\n",
            "80/80 [==============================] - 12s 152ms/step - loss: 0.0791 - accuracy: 0.9687 - val_loss: 0.2219 - val_accuracy: 0.9184\n",
            "Epoch 25/50\n",
            "80/80 [==============================] - 12s 153ms/step - loss: 0.0756 - accuracy: 0.9712 - val_loss: 0.1909 - val_accuracy: 0.9270\n",
            "Epoch 26/50\n",
            "80/80 [==============================] - 12s 153ms/step - loss: 0.0616 - accuracy: 0.9778 - val_loss: 0.2008 - val_accuracy: 0.9280\n",
            "Epoch 27/50\n",
            "80/80 [==============================] - 12s 151ms/step - loss: 0.1003 - accuracy: 0.9618 - val_loss: 0.1969 - val_accuracy: 0.9288\n",
            "Epoch 28/50\n",
            "80/80 [==============================] - 15s 191ms/step - loss: 0.0552 - accuracy: 0.9804 - val_loss: 0.1836 - val_accuracy: 0.9341\n",
            "Epoch 29/50\n",
            "80/80 [==============================] - 12s 156ms/step - loss: 0.0559 - accuracy: 0.9795 - val_loss: 0.2037 - val_accuracy: 0.9230\n",
            "Epoch 30/50\n",
            "80/80 [==============================] - 13s 163ms/step - loss: 0.0547 - accuracy: 0.9798 - val_loss: 0.1916 - val_accuracy: 0.9334\n",
            "Epoch 31/50\n",
            "80/80 [==============================] - 13s 163ms/step - loss: 0.0505 - accuracy: 0.9824 - val_loss: 0.2114 - val_accuracy: 0.9209\n",
            "Epoch 32/50\n",
            "80/80 [==============================] - 13s 158ms/step - loss: 0.0481 - accuracy: 0.9828 - val_loss: 0.2027 - val_accuracy: 0.9313\n",
            "Epoch 33/50\n",
            "80/80 [==============================] - 13s 164ms/step - loss: 0.0612 - accuracy: 0.9779 - val_loss: 0.1903 - val_accuracy: 0.9330\n",
            "Epoch 34/50\n",
            "80/80 [==============================] - 13s 166ms/step - loss: 0.0517 - accuracy: 0.9818 - val_loss: 0.2092 - val_accuracy: 0.9216\n",
            "Epoch 35/50\n",
            "80/80 [==============================] - 13s 165ms/step - loss: 0.0545 - accuracy: 0.9807 - val_loss: 0.1936 - val_accuracy: 0.9295\n",
            "Epoch 36/50\n",
            "80/80 [==============================] - 13s 163ms/step - loss: 0.0714 - accuracy: 0.9754 - val_loss: 0.1908 - val_accuracy: 0.9262\n",
            "Epoch 37/50\n",
            "80/80 [==============================] - 13s 163ms/step - loss: 0.0443 - accuracy: 0.9846 - val_loss: 0.1974 - val_accuracy: 0.9277\n",
            "Epoch 38/50\n",
            "80/80 [==============================] - 13s 162ms/step - loss: 0.0405 - accuracy: 0.9855 - val_loss: 0.1786 - val_accuracy: 0.9370\n",
            "Epoch 39/50\n",
            "80/80 [==============================] - 13s 163ms/step - loss: 0.0384 - accuracy: 0.9862 - val_loss: 0.1691 - val_accuracy: 0.9384\n",
            "Epoch 40/50\n",
            "80/80 [==============================] - 13s 162ms/step - loss: 0.0427 - accuracy: 0.9850 - val_loss: 0.1976 - val_accuracy: 0.9370\n",
            "Epoch 41/50\n",
            "80/80 [==============================] - 13s 163ms/step - loss: 0.0525 - accuracy: 0.9816 - val_loss: 0.1767 - val_accuracy: 0.9388\n",
            "Epoch 42/50\n",
            "80/80 [==============================] - 13s 158ms/step - loss: 0.0351 - accuracy: 0.9871 - val_loss: 0.1830 - val_accuracy: 0.9356\n",
            "Epoch 43/50\n",
            "80/80 [==============================] - 12s 155ms/step - loss: 0.0499 - accuracy: 0.9820 - val_loss: 0.2048 - val_accuracy: 0.9280\n",
            "Epoch 44/50\n",
            "80/80 [==============================] - 12s 154ms/step - loss: 0.0478 - accuracy: 0.9826 - val_loss: 0.1959 - val_accuracy: 0.9298\n",
            "Epoch 45/50\n",
            "80/80 [==============================] - 12s 153ms/step - loss: 0.0400 - accuracy: 0.9853 - val_loss: 0.2078 - val_accuracy: 0.9356\n",
            "Epoch 46/50\n",
            "80/80 [==============================] - 12s 154ms/step - loss: 0.0457 - accuracy: 0.9834 - val_loss: 0.2029 - val_accuracy: 0.9316\n",
            "Epoch 47/50\n",
            "80/80 [==============================] - 13s 158ms/step - loss: 0.0459 - accuracy: 0.9836 - val_loss: 0.2680 - val_accuracy: 0.9177\n",
            "Epoch 48/50\n",
            "80/80 [==============================] - 13s 161ms/step - loss: 0.0595 - accuracy: 0.9789 - val_loss: 0.1833 - val_accuracy: 0.9391\n",
            "Epoch 49/50\n",
            "80/80 [==============================] - 13s 161ms/step - loss: 0.0349 - accuracy: 0.9874 - val_loss: 0.1982 - val_accuracy: 0.9352\n",
            "Epoch 50/50\n",
            "80/80 [==============================] - 13s 158ms/step - loss: 0.0270 - accuracy: 0.9905 - val_loss: 0.1809 - val_accuracy: 0.9395\n"
          ]
        }
      ]
    },
    {
      "cell_type": "code",
      "source": [
        "#plot train/validation loss and train/validation accuracy \n",
        "history_dict = history.history\n",
        "loss_values=history_dict['loss']\n",
        "epochs = range(1, len(loss_values) + 1)\n",
        "plt.plot(epochs,history_dict['loss'])\n",
        "plt.plot(epochs, history_dict['val_loss'])\n",
        "plt.title('Model loss')\n",
        "plt.ylabel('Loss')\n",
        "plt.xlabel('Epochs')\n",
        "plt.legend(['train', 'val'], loc='upper left')\n",
        "plt.show()\n",
        "\n",
        "accuracy_values = history_dict['accuracy']\n",
        "val_accuracy= history_dict['val_accuracy']\n",
        "plt.plot(epochs, accuracy_values)\n",
        "plt.plot(epochs, val_accuracy)\n",
        "plt.title('Accuracy of training and validation set') \n",
        "plt.xlabel('Epochs')\n",
        "plt.ylabel('Accuracy')\n",
        "plt.legend(['train', 'val'], loc='upper left')\n",
        "plt.show()"
      ],
      "metadata": {
        "colab": {
          "base_uri": "https://localhost:8080/",
          "height": 573
        },
        "id": "QlxN4gBeceXf",
        "outputId": "0aaeb72b-9cdc-4e73-921f-31934ed219fa"
      },
      "execution_count": 15,
      "outputs": [
        {
          "output_type": "display_data",
          "data": {
            "text/plain": [
              "<Figure size 432x288 with 1 Axes>"
            ],
            "image/png": "[encoded data removed]"
          },
          "metadata": {
            "needs_background": "light"
          }
        },
        {
          "output_type": "display_data",
          "data": {
            "text/plain": [
              "<Figure size 432x288 with 1 Axes>"
            ],
            "image/png": "[encoded data removed]"
          },
          "metadata": {
            "needs_background": "light"
          }
        }
      ]
    },
    {
      "cell_type": "code",
      "source": [
        ""
      ],
      "metadata": {
        "id": "pyB7FFxVzQuV"
      },
      "execution_count": null,
      "outputs": []
    },
    {
      "cell_type": "markdown",
      "source": [
        "#Channels available"
      ],
      "metadata": {
        "id": "3CGmagQrzlAm"
      }
    },
    {
      "cell_type": "code",
      "source": [
        "#channels \n",
        "data= ['SegmentAngularVelocity_Pelvis_x','SegmentAngularVelocity_Pelvis_y','SegmentAngularVelocity_Pelvis_z','SegmentAngularVelocity_Right_Shoulder_x',\n",
        "    'SegmentAngularVelocity_Right_Shoulder_y','SegmentAngularVelocity_Right_Shoulder_z','SegmentAngularVelocity_Right_Forearm_x','SegmentAngularVelocity_Right_Forearm_y',\n",
        "    'SegmentAngularVelocity_Right_Forearm_z','SegmentAngularVelocity_Right_Hand_x','SegmentAngularVelocity_Right_Hand_y','SegmentAngularVelocity_Right_Hand_z',\n",
        "    'SegmentAngularVelocity_Left_Shoulder_x','SegmentAngularVelocity_Left_Shoulder_y','SegmentAngularVelocity_Left_Shoulder_z',\n",
        "    'SegmentAngularVelocity_Left_Forearm_x','SegmentAngularVelocity_Left_Forearm_y','SegmentAngularVelocity_Left_Forearm_z','SegmentAngularVelocity_Left_Hand_x',\n",
        "    'SegmentAngularVelocity_Left_Hand_y','SegmentAngularVelocity_Left_Hand_z','SegmentAngularVelocity_Right_Lower_Leg_x','SegmentAngularVelocity_Right_Lower_Leg_y',\n",
        "    'SegmentAngularVelocity_Right_Lower_Leg_z','SegmentAngularVelocity_Right_Foot_x','SegmentAngularVelocity_Right_Foot_y','SegmentAngularVelocity_Right_Foot_z',\n",
        "    'SegmentAngularVelocity_Left_Upper_Leg_x','SegmentAngularVelocity_Left_Upper_Leg_y','SegmentAngularVelocity_Left_Upper_Leg_z','SegmentAngularVelocity_Left_Lower_Leg_x',\n",
        "    'SegmentAngularVelocity_Left_Lower_Leg_y','SegmentAngularVelocity_Left_Lower_Leg_z','SegmentAngularVelocity_Left_Foot_x','SegmentAngularVelocity_Left_Foot_y','SegmentAngularVelocity_Left_Foot_z',\n",
        "    'JointAnglesZXY_C1_Head_Lateral_Bending','JointAnglesZXY_C1_Head_Axial_Rotation','JointAnglesZXY_C1_Head_Flexion_Extension','JointAnglesZXY_Right_Shoulder_Abduction_Adduction',\n",
        "    'JointAnglesZXY_Right_Shoulder_Internal_External_Rotation','JointAnglesZXY_Right_Shoulder_Flexion_Extension', 'JointAnglesZXY_Right_Elbow_Ulnar_Deviation_Radial_Deviation',\n",
        "    'JointAnglesZXY_Right_Elbow_Pronation_Supination', 'JointAnglesZXY_Right_Elbow_Flexion_Extension','JointAnglesZXY_Right_Wrist_Ulnar_Deviation_Radial_Deviation',\n",
        "    'JointAnglesZXY_Right_Wrist_Pronation_Supination','JointAnglesZXY_Right_Wrist_Flexion_Extension','JointAnglesZXY_Left_Shoulder_Abduction_Adduction','JointAnglesZXY_Left_Shoulder_Internal_External_Rotation',\n",
        "    'JointAnglesZXY_Left_Shoulder_Flexion_Extension','JointAnglesZXY_Left_Elbow_Ulnar_Deviation_Radial_Deviation', 'JointAnglesZXY_Left_Elbow_Pronation_Supination', 'JointAnglesZXY_Left_Elbow_Flexion_Extension',\n",
        "    'JointAnglesZXY_Left_Wrist_Ulnar_Deviation_Radial_Deviation','JointAnglesZXY_Left_Wrist_Pronation_Supination', 'JointAnglesZXY_Left_Wrist_Flexion_Extension', 'JointAnglesZXY_Right_Hip_Abduction_Adduction',\n",
        "    'JointAnglesZXY_Right_Hip_Internal_External_Rotation', 'JointAnglesZXY_Right_Hip_Flexion_Extension', 'JointAnglesZXY_Right_Knee_Abduction_Adduction', 'JointAnglesZXY_Right_Knee_Internal_External_Rotation',\n",
        "    'JointAnglesZXY_Right_Knee_Flexion_Extension', 'JointAnglesZXY_Right_Ankle_Abduction_Adduction', 'JointAnglesZXY_Right_Ankle_Internal_External_Rotation','JointAnglesZXY_Right_Ankle_Dorsiflexion_Plantarflexion',\n",
        "    'JointAnglesZXY_Left_Hip_Abduction_Adduction', 'JointAnglesZXY_Left_Hip_Internal_External_Rotation', 'JointAnglesZXY_Left_Hip_Flexion_Extension', 'JointAnglesZXY_Left_Knee_Abduction_Adduction', \n",
        "    'JointAnglesZXY_Left_Knee_Internal_External_Rotation', 'JointAnglesZXY_Left_Knee_Flexion_Extension', 'JointAnglesZXY_Left_Ankle_Abduction_Adduction', 'JointAnglesZXY_Left_Ankle_Internal_External_Rotation',\n",
        "    'JointAnglesZXY_Left_Ankle_Dorsiflexion_Plantarflexion',\n",
        "    'SensorFreeAcceleration_Pelvis_x','SensorFreeAcceleration_Pelvis_y','SensorFreeAcceleration_Pelvis_z','SensorFreeAcceleration_Head_x','SensorFreeAcceleration_Head_y','SensorFreeAcceleration_Head_z',\n",
        "    'SensorFreeAcceleration_Right_Shoulder_x','SensorFreeAcceleration_Right_Shoulder_y','SensorFreeAcceleration_Right_Shoulder_z','SensorFreeAcceleration_Right_Upper_Arm_x','SensorFreeAcceleration_Right_Upper_Arm_y',\n",
        "    'SensorFreeAcceleration_Right_Upper_Arm_z','SensorFreeAcceleration_Right_Forearm_x','SensorFreeAcceleration_Right_Forearm_y','SensorFreeAcceleration_Right_Forearm_z','SensorFreeAcceleration_Right_Hand_x','SensorFreeAcceleration_Right_Hand_y',\n",
        "    'SensorFreeAcceleration_Right_Hand_z','SensorFreeAcceleration_Left_Shoulder_x','SensorFreeAcceleration_Left_Shoulder_y','SensorFreeAcceleration_Left_Shoulder_z','SensorFreeAcceleration_Left_Upper_Arm_x',\n",
        "    'SensorFreeAcceleration_Left_Upper_Arm_y','SensorFreeAcceleration_Left_Upper_Arm_z','SensorFreeAcceleration_Left_Forearm_x','SensorFreeAcceleration_Left_Forearm_y','SensorFreeAcceleration_Left_Forearm_z',\n",
        "    'SensorFreeAcceleration_Left_Hand_x','SensorFreeAcceleration_Left_Hand_y','SensorFreeAcceleration_Left_Hand_z','SensorFreeAcceleration_Right_Upper_Leg_x','SensorFreeAcceleration_Right_Upper_Leg_y','SensorFreeAcceleration_Right_Upper_Leg_z',\n",
        "    'SensorFreeAcceleration_Right_Lower_Leg_x','SensorFreeAcceleration_Right_Lower_Leg_y','SensorFreeAcceleration_Right_Lower_Leg_z','SensorFreeAcceleration_Right_Foot_x','SensorFreeAcceleration_Right_Foot_y',\n",
        "    'SensorFreeAcceleration_Right_Foot_z','SensorFreeAcceleration_Left_Upper_Leg_x','SensorFreeAcceleration_Left_Upper_Leg_y','SensorFreeAcceleration_Left_Upper_Leg_z','SensorFreeAcceleration_Left_Lower_Leg_x',\n",
        "    'SensorFreeAcceleration_Left_Lower_Leg_y','SensorFreeAcceleration_Left_Lower_Leg_z','SensorFreeAcceleration_Left_Foot_x','SensorFreeAcceleration_Left_Foot_y','SensorFreeAcceleration_Left_Foot_z']  "
      ],
      "metadata": {
        "id": "1vwoOBChceMt"
      },
      "execution_count": null,
      "outputs": []
    }
  ]
}