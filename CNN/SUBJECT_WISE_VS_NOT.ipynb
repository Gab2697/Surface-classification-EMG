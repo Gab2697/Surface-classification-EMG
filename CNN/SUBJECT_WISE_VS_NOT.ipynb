{
  "nbformat": 4,
  "nbformat_minor": 0,
  "metadata": {
    "colab": {
      "name": "SUBJECT-WISE_VS_NOT.ipynb",
      "provenance": [],
      "authorship_tag": "ABX9TyPF3xPXaWc8oiI4Qreh5xCb",
      "include_colab_link": true
    },
    "kernelspec": {
      "name": "python3",
      "display_name": "Python 3"
    },
    "language_info": {
      "name": "python"
    }
  },
  "cells": [
    {
      "cell_type": "markdown",
      "metadata": {
        "id": "view-in-github",
        "colab_type": "text"
      },
      "source": [
        "<a href=\"https://colab.research.google.com/github/Gab2697/Surface-classification-EMG-IMU/blob/main/CNN/SUBJECT_WISE_VS_NOT.ipynb\" target=\"_parent\"><img src=\"https://colab.research.google.com/assets/colab-badge.svg\" alt=\"Open In Colab\"/></a>"
      ]
    },
    {
      "cell_type": "markdown",
      "source": [
        "#Import and functions"
      ],
      "metadata": {
        "id": "SkUlzn69sFa0"
      }
    },
    {
      "cell_type": "code",
      "execution_count": 1,
      "metadata": {
        "id": "pDL_OgYt17b4"
      },
      "outputs": [],
      "source": [
        "#import\n",
        "import pandas as pd\n",
        "import tensorflow as tf\n",
        "import numpy as np\n",
        "import pickle\n",
        "import matplotlib.pyplot as plt\n",
        "from scipy.io import loadmat\n",
        "\n",
        "from keras import layers \n",
        "from keras import models\n",
        "from keras import regularizers\n",
        "import glob\n",
        "\n",
        "from sklearn.model_selection import KFold\n",
        "from tensorflow.keras.models import Sequential\n",
        "from tensorflow.keras.layers import Dense, Flatten, Conv1D, MaxPooling1D, Dropout\n",
        "from tensorflow.keras.losses import binary_crossentropy, categorical_crossentropy\n",
        "from tensorflow.keras.optimizers import Adam, SGD, RMSprop"
      ]
    },
    {
      "cell_type": "code",
      "source": [
        "from google.colab import drive\n",
        "drive.mount('/content/drive')"
      ],
      "metadata": {
        "colab": {
          "base_uri": "https://localhost:8080/"
        },
        "id": "5BeWp8Lp19uj",
        "outputId": "20e93cde-e4b2-4f5d-bab6-ac2f5c489b9a"
      },
      "execution_count": 2,
      "outputs": [
        {
          "output_type": "stream",
          "name": "stdout",
          "text": [
            "Mounted at /content/drive\n"
          ]
        }
      ]
    },
    {
      "cell_type": "code",
      "source": [
        "#================================Open pickle file================================\n",
        "def open_pickle(path_pickle):\n",
        "    f = open(path_pickle, 'rb')\n",
        "    T = pickle.load(f)\n",
        "    f.close()\n",
        "\n",
        "    return T\n",
        "\n",
        "#================================Seperate signals from IMU================================\n",
        "def seperate_IMU_signals(type_signal,ALL_data):\n",
        "  if type_signal=='gyro':\n",
        "    ALL_data=ALL_data[:,:,0:36]\n",
        "  # elif type_signal=='angle':\n",
        "  #   ALL_data=ALL_data[:,:,37:75]\n",
        "  elif type_signal=='acc':\n",
        "    ALL_data=ALL_data[:,:,36:83]\n",
        "  elif type_signal=='EMG_raw':\n",
        "    ALL_data=ALL_data[:,:,83:88]\n",
        "  elif type_signal=='EMG_HF':\n",
        "    ALL_data=ALL_data[:,:,88:92]\n",
        "  elif type_signal=='EMG_LF':\n",
        "    ALL_data=ALL_data[:,:,92:96]\n",
        "  elif type_signal=='EMG_rectified':\n",
        "    ALL_data=ALL_data[:,:,96:100]\n",
        "  elif type_signal=='EMG_rms':\n",
        "    ALL_data=ALL_data[:,:,100:104]\n",
        "  elif type_signal=='EMG_Env':\n",
        "    ALL_data=ALL_data[:,:,104:108]\n",
        "  return ALL_data\n",
        "\n",
        "#================================subject wise split================================\n",
        "def subject_wise_split(Participant,subject_wise,split=0.10,seed=42):\n",
        "    np.random.seed(seed)\n",
        "    if subject_wise:\n",
        "        UniqParti=np.unique(Participant)\n",
        "        num=np.round(UniqParti.shape[0]*split).astype('int64')\n",
        "        np.random.shuffle(UniqParti)\n",
        "        extract=UniqParti[0:num]\n",
        "        test_index=np.array([],dtype='int64')\n",
        "        for j in extract:\n",
        "            test_index=np.append(test_index,np.where(Participant==j)[0])\n",
        "        train_index=np.delete(np.arange(len(Participant)),test_index)\n",
        "        np.random.shuffle(test_index)\n",
        "        np.random.shuffle(train_index)\n",
        "\n",
        "    else:\n",
        "        I=np.arange(len(Participant)).astype('int64')\n",
        "        np.random.shuffle(I)\n",
        "        num=np.round(Participant.shape[0]*split).astype('int64')\n",
        "        test_index=I[0:num]\n",
        "        train_index=I[num:]\n",
        "        extract=np.unique(Participant[test_index])\n",
        "    return train_index,test_index,extract\n",
        "\n",
        "#================================One Hot encoding================================\n",
        "def one_hot(y):\n",
        "    uniq=np.unique(y)\n",
        "    y_hot=np.zeros([y.shape[0],uniq.shape[0]])\n",
        "    for i in range(len(uniq)):\n",
        "        index=np.where(y==uniq[i])[0]\n",
        "        y_hot[index,i]=1\n",
        "    surface_name=uniq\n",
        "    return y_hot\n",
        "\n",
        "#================================final prep CNN================================\n",
        "def final_prep(data, Surface, Participant, yes_no):\n",
        "  #test set\n",
        "  train_index1,test_index,extract=subject_wise_split(np.array(Participant),split=0.20,subject_wise= yes_no,seed=5)\n",
        "  train_index1,test_index=train_index1.astype('int64'),test_index.astype('int64')   \n",
        "  X_train1=data[train_index1]\n",
        "  X_test=data[test_index]\n",
        "  y_train1=Surface[train_index1]\n",
        "  y_test=Surface[test_index]\n",
        "\n",
        "  #validation set\n",
        "  ALL_Participants_train=ALL_Participants_numb_NS[train_index1]\n",
        "  train_index,validation_index,extract=subject_wise_split(np.array(ALL_Participants_train),split=0.30,subject_wise= yes_no,seed=5)\n",
        "  train_index,validation_index=train_index.astype('int64'),validation_index.astype('int64')  \n",
        "  X_train=X_train1[train_index]\n",
        "  X_validation=X_train1[validation_index]\n",
        "  y_train=y_train1[train_index]\n",
        "  y_validation=y_train1[validation_index]\n",
        "\n",
        "  #tensor shape\n",
        "  print(\"Tensor train emg raw shape:\", X_train.shape)\n",
        "  print(\"Tensor validation emg raw shape:\", X_validation.shape)\n",
        "  print(\"Tensor test emg raw shape:\", X_test.shape)\n",
        "\n",
        "  #one hot encoding for label\n",
        "  X_train=np.asarray(X_train).astype(np.float32) \n",
        "  y_train=one_hot(y_train)\n",
        "  X_test=np.asarray(X_test).astype(np.float32) \n",
        "  y_test=one_hot(y_test)\n",
        "  X_validation=np.asarray(X_validation).astype(np.float32)\n",
        "  y_validation=one_hot(y_validation)\n",
        "  return X_train,y_train,X_test,y_test,X_validation, y_validation\n",
        "#-----------------------------------------\n",
        "def final_prep1(data, Surface, Participant, yes_no):\n",
        "  #test set\n",
        "  train_index,test_index,extract=subject_wise_split(np.array(Participant),split=0.20,subject_wise= yes_no,seed=5)\n",
        "  train_index,test_index=train_index.astype('int64'),test_index.astype('int64')   \n",
        "  X_train=data[train_index]\n",
        "  X_test=data[test_index]\n",
        "  y_train=Surface[train_index]\n",
        "  y_test=Surface[test_index]\n",
        "\n",
        "\n",
        "  #one hot encoding for label\n",
        "  X_train=np.asarray(X_train).astype(np.float32) \n",
        "  y_train=one_hot(y_train)\n",
        "  X_test=np.asarray(X_test).astype(np.float32) \n",
        "  y_test=one_hot(y_test)\n",
        "  return X_train,y_train,X_test,y_test\n",
        "\n",
        "#================================ CNN================================\n",
        "def make_model_1D(input_size,filter_numb1,filter_numb2,filter_numb3,kernel_size,pool_size,opt):\n",
        "  #Instantiating convnet\n",
        "  model = models.Sequential()\n",
        "  model.add(layers.Conv1D(filter_numb1, kernel_size,activation='relu', input_shape=(input_size),padding='same')) \n",
        "  model.add(layers.Conv1D(filter_numb2, kernel_size, activation='relu',padding='same'))\n",
        "  #Adding a classifier on top of the convnet\n",
        "  model.add(layers.Flatten()) \n",
        "  model.add(layers.Dense(filter_numb3, activation='relu')) \n",
        "  model.add(layers.Dense(2, activation='softmax')) \n",
        "  # model.summary()\n",
        "  model.compile(optimizer = opt, loss='binary_crossentropy', metrics=['accuracy']) \n",
        "  return model "
      ],
      "metadata": {
        "id": "B66lZrDp19rk"
      },
      "execution_count": 17,
      "outputs": []
    },
    {
      "cell_type": "markdown",
      "source": [
        "#GC_NS_BASED ON MERGE DATA"
      ],
      "metadata": {
        "id": "9TrNK6Ll2HPR"
      }
    },
    {
      "cell_type": "code",
      "source": [
        "#open pickle\n",
        "ALL_data_NS=open_pickle('/content/drive/MyDrive/Gab/Variables_saved/IMU/ALL_data_NS.pkl')\n",
        "ALL_Surfaces_NS=open_pickle('/content/drive/MyDrive/Gab/Variables_saved/IMU/ALL_Surfaces_NS.pkl')\n",
        "ALL_Participants_numb_NS=open_pickle('/content/drive/MyDrive/Gab/Variables_saved/IMU/ALL_Participants_numb_NS.pkl')"
      ],
      "metadata": {
        "id": "Rhk_ABVw2aHI"
      },
      "execution_count": 4,
      "outputs": []
    },
    {
      "cell_type": "markdown",
      "source": [
        "## EMG_RAW"
      ],
      "metadata": {
        "id": "iu4RtsLk2LuJ"
      }
    },
    {
      "cell_type": "markdown",
      "source": [
        "SPLIT SUBJECT-WISE"
      ],
      "metadata": {
        "id": "f5IsH91h3Vpu"
      }
    },
    {
      "cell_type": "code",
      "source": [
        "ALL_data_emg_raw=seperate_IMU_signals('EMG_raw',ALL_data_NS)\n",
        "print(\"Tensor all emg raw shape:\", ALL_data_emg_raw.shape)\n",
        "#seperate train,validation and test set for EMG raw data \n",
        "# X_train,y_train,X_test,y_test,X_validation, y_validation=final_prep(ALL_data_emg_raw, ALL_Surfaces_NS.to_numpy(), ALL_Participants_numb_NS.to_numpy(),True)\n",
        "\n",
        "X_train,y_train,X_test,y_test=final_prep1(ALL_data_emg_raw, ALL_Surfaces_NS.to_numpy(), ALL_Participants_numb_NS.to_numpy(),True)"
      ],
      "metadata": {
        "colab": {
          "base_uri": "https://localhost:8080/"
        },
        "id": "TJ7uDeuK19pz",
        "outputId": "39c45ef7-5603-4305-b07c-bff8974fbd58"
      },
      "execution_count": 18,
      "outputs": [
        {
          "output_type": "stream",
          "name": "stdout",
          "text": [
            "Tensor all emg raw shape: (11181, 101, 5)\n"
          ]
        }
      ]
    },
    {
      "cell_type": "code",
      "source": [
        "model=make_model_1D(X_train.shape[1:],64,64,100,3,2,RMSprop(lr=0.001))\n",
        "# make_model_1D(input_size,filter_numb1,filter_numb2,filter_numb3,kernel_size,pool_size,opt)\n",
        "history= model.fit(X_train,y_train, epochs=100, batch_size=200,validation_data=(X_test, y_test))"
      ],
      "metadata": {
        "colab": {
          "base_uri": "https://localhost:8080/"
        },
        "id": "lmbRhcNU2wZg",
        "outputId": "02ec1c95-ac42-47ed-c9e2-85966ac08f8d"
      },
      "execution_count": 19,
      "outputs": [
        {
          "output_type": "stream",
          "name": "stderr",
          "text": [
            "/usr/local/lib/python3.7/dist-packages/keras/optimizer_v2/rmsprop.py:130: UserWarning: The `lr` argument is deprecated, use `learning_rate` instead.\n",
            "  super(RMSprop, self).__init__(name, **kwargs)\n"
          ]
        },
        {
          "output_type": "stream",
          "name": "stdout",
          "text": [
            "Epoch 1/100\n",
            "47/47 [==============================] - 5s 84ms/step - loss: 1.4506 - accuracy: 0.5388 - val_loss: 0.6916 - val_accuracy: 0.5876\n",
            "Epoch 2/100\n",
            "47/47 [==============================] - 4s 80ms/step - loss: 0.6670 - accuracy: 0.6009 - val_loss: 0.7070 - val_accuracy: 0.5182\n",
            "Epoch 3/100\n",
            "47/47 [==============================] - 4s 82ms/step - loss: 0.6355 - accuracy: 0.6449 - val_loss: 0.6909 - val_accuracy: 0.5323\n",
            "Epoch 4/100\n",
            "47/47 [==============================] - 4s 80ms/step - loss: 0.5823 - accuracy: 0.7023 - val_loss: 0.6993 - val_accuracy: 0.6620\n",
            "Epoch 5/100\n",
            "47/47 [==============================] - 4s 88ms/step - loss: 0.5465 - accuracy: 0.7345 - val_loss: 0.8178 - val_accuracy: 0.5426\n",
            "Epoch 6/100\n",
            "47/47 [==============================] - 5s 106ms/step - loss: 0.4942 - accuracy: 0.7668 - val_loss: 0.7796 - val_accuracy: 0.5638\n",
            "Epoch 7/100\n",
            "47/47 [==============================] - 4s 81ms/step - loss: 0.4516 - accuracy: 0.7896 - val_loss: 0.7626 - val_accuracy: 0.6099\n",
            "Epoch 8/100\n",
            "47/47 [==============================] - 5s 105ms/step - loss: 0.4110 - accuracy: 0.8156 - val_loss: 0.7328 - val_accuracy: 0.6267\n",
            "Epoch 9/100\n",
            "47/47 [==============================] - 5s 100ms/step - loss: 0.3700 - accuracy: 0.8380 - val_loss: 0.8784 - val_accuracy: 0.5822\n",
            "Epoch 10/100\n",
            "47/47 [==============================] - 4s 82ms/step - loss: 0.3302 - accuracy: 0.8533 - val_loss: 0.8523 - val_accuracy: 0.6375\n",
            "Epoch 11/100\n",
            "47/47 [==============================] - 4s 80ms/step - loss: 0.2995 - accuracy: 0.8731 - val_loss: 0.7858 - val_accuracy: 0.6723\n",
            "Epoch 12/100\n",
            "47/47 [==============================] - 4s 80ms/step - loss: 0.2645 - accuracy: 0.8913 - val_loss: 1.0677 - val_accuracy: 0.6115\n",
            "Epoch 13/100\n",
            "47/47 [==============================] - 4s 81ms/step - loss: 0.2467 - accuracy: 0.9039 - val_loss: 0.9715 - val_accuracy: 0.6441\n",
            "Epoch 14/100\n",
            "47/47 [==============================] - 4s 80ms/step - loss: 0.2180 - accuracy: 0.9105 - val_loss: 1.1224 - val_accuracy: 0.6131\n",
            "Epoch 15/100\n",
            "47/47 [==============================] - 4s 81ms/step - loss: 0.1916 - accuracy: 0.9264 - val_loss: 1.1954 - val_accuracy: 0.6527\n",
            "Epoch 16/100\n",
            "47/47 [==============================] - 4s 81ms/step - loss: 0.1709 - accuracy: 0.9336 - val_loss: 1.2229 - val_accuracy: 0.6082\n",
            "Epoch 17/100\n",
            "47/47 [==============================] - 4s 81ms/step - loss: 0.1475 - accuracy: 0.9444 - val_loss: 1.6941 - val_accuracy: 0.5486\n",
            "Epoch 18/100\n",
            "47/47 [==============================] - 4s 80ms/step - loss: 0.1265 - accuracy: 0.9556 - val_loss: 1.7195 - val_accuracy: 0.5898\n",
            "Epoch 19/100\n",
            "47/47 [==============================] - 4s 81ms/step - loss: 0.1156 - accuracy: 0.9595 - val_loss: 1.2884 - val_accuracy: 0.6446\n",
            "Epoch 20/100\n",
            "47/47 [==============================] - 4s 81ms/step - loss: 0.0987 - accuracy: 0.9658 - val_loss: 1.5795 - val_accuracy: 0.6441\n",
            "Epoch 21/100\n",
            "47/47 [==============================] - 4s 80ms/step - loss: 0.1026 - accuracy: 0.9621 - val_loss: 1.7328 - val_accuracy: 0.5833\n",
            "Epoch 22/100\n",
            "47/47 [==============================] - 4s 80ms/step - loss: 0.0641 - accuracy: 0.9817 - val_loss: 2.2810 - val_accuracy: 0.5893\n",
            "Epoch 23/100\n",
            "47/47 [==============================] - 4s 80ms/step - loss: 0.0676 - accuracy: 0.9782 - val_loss: 2.0944 - val_accuracy: 0.6305\n",
            "Epoch 24/100\n",
            "47/47 [==============================] - 4s 81ms/step - loss: 0.0632 - accuracy: 0.9801 - val_loss: 1.8224 - val_accuracy: 0.6332\n",
            "Epoch 25/100\n",
            "47/47 [==============================] - 4s 81ms/step - loss: 0.0470 - accuracy: 0.9868 - val_loss: 2.5561 - val_accuracy: 0.5941\n",
            "Epoch 26/100\n",
            "47/47 [==============================] - 4s 82ms/step - loss: 0.0672 - accuracy: 0.9797 - val_loss: 2.2662 - val_accuracy: 0.6039\n",
            "Epoch 27/100\n",
            "47/47 [==============================] - 4s 90ms/step - loss: 0.0400 - accuracy: 0.9893 - val_loss: 2.6206 - val_accuracy: 0.6082\n",
            "Epoch 28/100\n",
            "47/47 [==============================] - 4s 82ms/step - loss: 0.0424 - accuracy: 0.9869 - val_loss: 2.5220 - val_accuracy: 0.6495\n",
            "Epoch 29/100\n",
            "47/47 [==============================] - 4s 81ms/step - loss: 0.0528 - accuracy: 0.9821 - val_loss: 2.4539 - val_accuracy: 0.6023\n",
            "Epoch 30/100\n",
            "47/47 [==============================] - 4s 80ms/step - loss: 0.0189 - accuracy: 0.9957 - val_loss: 2.8569 - val_accuracy: 0.6148\n",
            "Epoch 31/100\n",
            "47/47 [==============================] - 4s 82ms/step - loss: 0.0437 - accuracy: 0.9875 - val_loss: 2.6808 - val_accuracy: 0.6039\n",
            "Epoch 32/100\n",
            "47/47 [==============================] - 4s 81ms/step - loss: 0.0602 - accuracy: 0.9860 - val_loss: 2.7374 - val_accuracy: 0.6093\n",
            "Epoch 33/100\n",
            "47/47 [==============================] - 4s 81ms/step - loss: 0.0414 - accuracy: 0.9879 - val_loss: 2.5383 - val_accuracy: 0.5931\n",
            "Epoch 34/100\n",
            "47/47 [==============================] - 4s 82ms/step - loss: 0.0192 - accuracy: 0.9960 - val_loss: 5.3384 - val_accuracy: 0.4943\n",
            "Epoch 35/100\n",
            "47/47 [==============================] - 4s 81ms/step - loss: 0.0146 - accuracy: 0.9961 - val_loss: 3.4219 - val_accuracy: 0.6077\n",
            "Epoch 36/100\n",
            "47/47 [==============================] - 4s 81ms/step - loss: 0.0629 - accuracy: 0.9865 - val_loss: 3.1177 - val_accuracy: 0.6175\n",
            "Epoch 37/100\n",
            "47/47 [==============================] - 4s 82ms/step - loss: 0.0552 - accuracy: 0.9880 - val_loss: 3.1185 - val_accuracy: 0.6110\n",
            "Epoch 38/100\n",
            "47/47 [==============================] - 4s 82ms/step - loss: 0.0020 - accuracy: 0.9998 - val_loss: 5.1670 - val_accuracy: 0.5410\n",
            "Epoch 39/100\n",
            "47/47 [==============================] - 4s 82ms/step - loss: 0.0665 - accuracy: 0.9878 - val_loss: 3.2472 - val_accuracy: 0.6110\n",
            "Epoch 40/100\n",
            "47/47 [==============================] - 4s 81ms/step - loss: 0.0518 - accuracy: 0.9871 - val_loss: 2.9114 - val_accuracy: 0.6099\n",
            "Epoch 41/100\n",
            "47/47 [==============================] - 4s 82ms/step - loss: 0.0017 - accuracy: 1.0000 - val_loss: 3.7440 - val_accuracy: 0.6088\n",
            "Epoch 42/100\n",
            "47/47 [==============================] - 4s 82ms/step - loss: 0.0368 - accuracy: 0.9888 - val_loss: 3.3635 - val_accuracy: 0.6169\n",
            "Epoch 43/100\n",
            "47/47 [==============================] - 4s 81ms/step - loss: 0.0609 - accuracy: 0.9862 - val_loss: 2.9361 - val_accuracy: 0.6294\n",
            "Epoch 44/100\n",
            "47/47 [==============================] - 4s 81ms/step - loss: 0.0018 - accuracy: 0.9998 - val_loss: 3.4413 - val_accuracy: 0.6234\n",
            "Epoch 45/100\n",
            "47/47 [==============================] - 4s 82ms/step - loss: 0.0502 - accuracy: 0.9898 - val_loss: 3.3595 - val_accuracy: 0.6153\n",
            "Epoch 46/100\n",
            "47/47 [==============================] - 4s 81ms/step - loss: 0.0270 - accuracy: 0.9915 - val_loss: 2.7281 - val_accuracy: 0.6180\n",
            "Epoch 47/100\n",
            "47/47 [==============================] - 4s 81ms/step - loss: 0.0015 - accuracy: 1.0000 - val_loss: 3.6485 - val_accuracy: 0.6169\n",
            "Epoch 48/100\n",
            "47/47 [==============================] - 4s 82ms/step - loss: 0.0680 - accuracy: 0.9883 - val_loss: 3.0204 - val_accuracy: 0.6213\n",
            "Epoch 49/100\n",
            "47/47 [==============================] - 4s 82ms/step - loss: 9.6149e-04 - accuracy: 0.9999 - val_loss: 3.5326 - val_accuracy: 0.6164\n",
            "Epoch 50/100\n",
            "47/47 [==============================] - 4s 82ms/step - loss: 0.0392 - accuracy: 0.9894 - val_loss: 3.4763 - val_accuracy: 0.6120\n",
            "Epoch 51/100\n",
            "47/47 [==============================] - 4s 81ms/step - loss: 0.0508 - accuracy: 0.9900 - val_loss: 2.8562 - val_accuracy: 0.6191\n",
            "Epoch 52/100\n",
            "47/47 [==============================] - 4s 81ms/step - loss: 0.0015 - accuracy: 1.0000 - val_loss: 3.7351 - val_accuracy: 0.6104\n",
            "Epoch 53/100\n",
            "47/47 [==============================] - 4s 81ms/step - loss: 0.0594 - accuracy: 0.9910 - val_loss: 2.9097 - val_accuracy: 0.6305\n",
            "Epoch 54/100\n",
            "47/47 [==============================] - 4s 89ms/step - loss: 0.0011 - accuracy: 1.0000 - val_loss: 3.7605 - val_accuracy: 0.6180\n",
            "Epoch 55/100\n",
            "47/47 [==============================] - 4s 89ms/step - loss: 0.0505 - accuracy: 0.9884 - val_loss: 2.9803 - val_accuracy: 0.6256\n",
            "Epoch 56/100\n",
            "47/47 [==============================] - 4s 82ms/step - loss: 0.0026 - accuracy: 0.9999 - val_loss: 3.8074 - val_accuracy: 0.6126\n",
            "Epoch 57/100\n",
            "47/47 [==============================] - 4s 82ms/step - loss: 0.0477 - accuracy: 0.9895 - val_loss: 3.0294 - val_accuracy: 0.6213\n",
            "Epoch 58/100\n",
            "47/47 [==============================] - 4s 82ms/step - loss: 8.7661e-04 - accuracy: 1.0000 - val_loss: 3.8081 - val_accuracy: 0.6110\n",
            "Epoch 59/100\n",
            "47/47 [==============================] - 4s 81ms/step - loss: 0.0543 - accuracy: 0.9892 - val_loss: 2.9364 - val_accuracy: 0.6142\n",
            "Epoch 60/100\n",
            "47/47 [==============================] - 4s 81ms/step - loss: 0.0014 - accuracy: 0.9999 - val_loss: 3.8288 - val_accuracy: 0.6001\n",
            "Epoch 61/100\n",
            "47/47 [==============================] - 4s 82ms/step - loss: 7.3883e-04 - accuracy: 0.9999 - val_loss: 4.1083 - val_accuracy: 0.6251\n",
            "Epoch 62/100\n",
            "47/47 [==============================] - 4s 81ms/step - loss: 0.0719 - accuracy: 0.9868 - val_loss: 3.4330 - val_accuracy: 0.6148\n",
            "Epoch 63/100\n",
            "47/47 [==============================] - 4s 81ms/step - loss: 3.3110e-04 - accuracy: 1.0000 - val_loss: 3.8471 - val_accuracy: 0.6245\n",
            "Epoch 64/100\n",
            "47/47 [==============================] - 4s 81ms/step - loss: 0.0282 - accuracy: 0.9950 - val_loss: 4.3958 - val_accuracy: 0.6571\n",
            "Epoch 65/100\n",
            "47/47 [==============================] - 4s 81ms/step - loss: 0.0123 - accuracy: 0.9968 - val_loss: 3.9241 - val_accuracy: 0.6234\n",
            "Epoch 66/100\n",
            "47/47 [==============================] - 4s 81ms/step - loss: 1.0214e-04 - accuracy: 1.0000 - val_loss: 4.4541 - val_accuracy: 0.6175\n",
            "Epoch 67/100\n",
            "47/47 [==============================] - 4s 81ms/step - loss: 0.0768 - accuracy: 0.9864 - val_loss: 3.4912 - val_accuracy: 0.6300\n",
            "Epoch 68/100\n",
            "47/47 [==============================] - 4s 82ms/step - loss: 0.0022 - accuracy: 0.9996 - val_loss: 4.3240 - val_accuracy: 0.6023\n",
            "Epoch 69/100\n",
            "47/47 [==============================] - 4s 82ms/step - loss: 2.0375e-04 - accuracy: 1.0000 - val_loss: 4.7135 - val_accuracy: 0.6158\n",
            "Epoch 70/100\n",
            "47/47 [==============================] - 4s 82ms/step - loss: 0.0557 - accuracy: 0.9896 - val_loss: 3.7849 - val_accuracy: 0.6229\n",
            "Epoch 71/100\n",
            "47/47 [==============================] - 4s 90ms/step - loss: 1.4675e-04 - accuracy: 1.0000 - val_loss: 4.3992 - val_accuracy: 0.6191\n",
            "Epoch 72/100\n",
            "47/47 [==============================] - 4s 81ms/step - loss: 0.1472 - accuracy: 0.9861 - val_loss: 3.7923 - val_accuracy: 0.6131\n",
            "Epoch 73/100\n",
            "47/47 [==============================] - 4s 83ms/step - loss: 5.0668e-04 - accuracy: 1.0000 - val_loss: 3.8543 - val_accuracy: 0.6310\n",
            "Epoch 74/100\n",
            "47/47 [==============================] - 4s 81ms/step - loss: 6.7015e-05 - accuracy: 1.0000 - val_loss: 4.4443 - val_accuracy: 0.6213\n",
            "Epoch 75/100\n",
            "47/47 [==============================] - 4s 80ms/step - loss: 0.0682 - accuracy: 0.9884 - val_loss: 3.5852 - val_accuracy: 0.6229\n",
            "Epoch 76/100\n",
            "47/47 [==============================] - 4s 82ms/step - loss: 3.2642e-04 - accuracy: 1.0000 - val_loss: 4.2131 - val_accuracy: 0.6224\n",
            "Epoch 77/100\n",
            "47/47 [==============================] - 4s 93ms/step - loss: 3.8480e-05 - accuracy: 1.0000 - val_loss: 4.6742 - val_accuracy: 0.6267\n",
            "Epoch 78/100\n",
            "47/47 [==============================] - 4s 82ms/step - loss: 0.0783 - accuracy: 0.9889 - val_loss: 3.8017 - val_accuracy: 0.6256\n",
            "Epoch 79/100\n",
            "47/47 [==============================] - 4s 82ms/step - loss: 1.7332e-04 - accuracy: 1.0000 - val_loss: 4.2501 - val_accuracy: 0.6196\n",
            "Epoch 80/100\n",
            "47/47 [==============================] - 4s 82ms/step - loss: 3.3870e-05 - accuracy: 1.0000 - val_loss: 4.8451 - val_accuracy: 0.6175\n",
            "Epoch 81/100\n",
            "47/47 [==============================] - 4s 91ms/step - loss: 0.0741 - accuracy: 0.9904 - val_loss: 3.6343 - val_accuracy: 0.6169\n",
            "Epoch 82/100\n",
            "47/47 [==============================] - 4s 91ms/step - loss: 3.6130e-04 - accuracy: 1.0000 - val_loss: 4.0578 - val_accuracy: 0.6202\n",
            "Epoch 83/100\n",
            "47/47 [==============================] - 4s 82ms/step - loss: 4.4739e-05 - accuracy: 1.0000 - val_loss: 4.6964 - val_accuracy: 0.6093\n",
            "Epoch 84/100\n",
            "47/47 [==============================] - 4s 82ms/step - loss: 0.1239 - accuracy: 0.9877 - val_loss: 4.0869 - val_accuracy: 0.6229\n",
            "Epoch 85/100\n",
            "47/47 [==============================] - 4s 81ms/step - loss: 2.5634e-04 - accuracy: 1.0000 - val_loss: 4.2839 - val_accuracy: 0.6224\n",
            "Epoch 86/100\n",
            "47/47 [==============================] - 4s 81ms/step - loss: 4.1483e-05 - accuracy: 1.0000 - val_loss: 4.5954 - val_accuracy: 0.6202\n",
            "Epoch 87/100\n",
            "47/47 [==============================] - 4s 81ms/step - loss: 0.0628 - accuracy: 0.9905 - val_loss: 3.2335 - val_accuracy: 0.6544\n",
            "Epoch 88/100\n",
            "47/47 [==============================] - 4s 81ms/step - loss: 0.0026 - accuracy: 0.9996 - val_loss: 4.0380 - val_accuracy: 0.6224\n",
            "Epoch 89/100\n",
            "47/47 [==============================] - 4s 82ms/step - loss: 6.6458e-05 - accuracy: 1.0000 - val_loss: 4.6086 - val_accuracy: 0.6099\n",
            "Epoch 90/100\n",
            "47/47 [==============================] - 4s 82ms/step - loss: 1.4558e-05 - accuracy: 1.0000 - val_loss: 4.9916 - val_accuracy: 0.6115\n",
            "Epoch 91/100\n",
            "47/47 [==============================] - 4s 82ms/step - loss: 0.0750 - accuracy: 0.9882 - val_loss: 3.9362 - val_accuracy: 0.6131\n",
            "Epoch 92/100\n",
            "47/47 [==============================] - 4s 82ms/step - loss: 8.6901e-04 - accuracy: 0.9995 - val_loss: 3.9023 - val_accuracy: 0.6375\n",
            "Epoch 93/100\n",
            "47/47 [==============================] - 4s 82ms/step - loss: 0.0289 - accuracy: 0.9913 - val_loss: 3.9780 - val_accuracy: 0.6386\n",
            "Epoch 94/100\n",
            "47/47 [==============================] - 4s 82ms/step - loss: 8.3904e-05 - accuracy: 1.0000 - val_loss: 4.8590 - val_accuracy: 0.6213\n",
            "Epoch 95/100\n",
            "47/47 [==============================] - 4s 81ms/step - loss: 1.5659e-05 - accuracy: 1.0000 - val_loss: 5.4119 - val_accuracy: 0.6099\n",
            "Epoch 96/100\n",
            "47/47 [==============================] - 4s 81ms/step - loss: 0.1349 - accuracy: 0.9889 - val_loss: 4.6557 - val_accuracy: 0.6126\n",
            "Epoch 97/100\n",
            "47/47 [==============================] - 4s 92ms/step - loss: 1.0926e-04 - accuracy: 1.0000 - val_loss: 4.6254 - val_accuracy: 0.6272\n",
            "Epoch 98/100\n",
            "47/47 [==============================] - 4s 81ms/step - loss: 2.1361e-05 - accuracy: 1.0000 - val_loss: 5.0612 - val_accuracy: 0.6267\n",
            "Epoch 99/100\n",
            "47/47 [==============================] - 4s 82ms/step - loss: 0.0758 - accuracy: 0.9885 - val_loss: 3.6619 - val_accuracy: 0.6300\n",
            "Epoch 100/100\n",
            "47/47 [==============================] - 4s 82ms/step - loss: 3.6093e-04 - accuracy: 1.0000 - val_loss: 4.3411 - val_accuracy: 0.6256\n"
          ]
        }
      ]
    },
    {
      "cell_type": "code",
      "source": [
        "#plot train/validation loss and train/validation accuracy \n",
        "history_dict = history.history\n",
        "loss_values=history_dict['loss']\n",
        "epochs = range(1, len(loss_values) + 1)\n",
        "plt.plot(epochs,history_dict['loss'])\n",
        "plt.plot(epochs, history_dict['val_loss'])\n",
        "plt.title('Model loss')\n",
        "plt.ylabel('Loss')\n",
        "plt.xlabel('Epochs')\n",
        "plt.legend(['train', 'val'], loc='upper left')\n",
        "plt.show()\n",
        "\n",
        "accuracy_values = history_dict['accuracy']\n",
        "val_accuracy= history_dict['val_accuracy']\n",
        "plt.plot(epochs, accuracy_values)\n",
        "plt.plot(epochs, val_accuracy)\n",
        "plt.title('Accuracy of training and validation set') \n",
        "plt.xlabel('Epochs')\n",
        "plt.ylabel('Accuracy')\n",
        "plt.legend(['train', 'val'], loc='upper left')\n",
        "plt.show()"
      ],
      "metadata": {
        "colab": {
          "base_uri": "https://localhost:8080/",
          "height": 573
        },
        "id": "Bb7gIh2v4P8t",
        "outputId": "f1ea12e9-33a0-40ff-8179-219fc720000a"
      },
      "execution_count": 20,
      "outputs": [
        {
          "output_type": "display_data",
          "data": {
            "text/plain": [
              "<Figure size 432x288 with 1 Axes>"
            ],
            "image/png": "[encoded data removed]"
          },
          "metadata": {
            "needs_background": "light"
          }
        },
        {
          "output_type": "display_data",
          "data": {
            "text/plain": [
              "<Figure size 432x288 with 1 Axes>"
            ],
            "image/png": "[encoded data removed]"
          },
          "metadata": {
            "needs_background": "light"
          }
        }
      ]
    },
    {
      "cell_type": "markdown",
      "source": [
        "SPLIT NOT SUBJECT-WISE (SHUFFLED IN VALIDATION AND TRAINING)"
      ],
      "metadata": {
        "id": "1Lh_Cy-23SVT"
      }
    },
    {
      "cell_type": "code",
      "source": [
        "ALL_data_emg_raw=seperate_IMU_signals('EMG_raw',ALL_data_NS)\n",
        "print(\"Tensor all emg raw shape:\", ALL_data_emg_raw.shape)\n",
        "#seperate train,validation and test set for EMG raw data \n",
        "X_train,y_train,X_test,y_test=final_prep1(ALL_data_emg_raw, ALL_Surfaces_NS.to_numpy(), ALL_Participants_numb_NS.to_numpy(),False)"
      ],
      "metadata": {
        "colab": {
          "base_uri": "https://localhost:8080/"
        },
        "id": "Y3EEqYhK19na",
        "outputId": "268d422f-831a-4654-f46c-25dea390fb5c"
      },
      "execution_count": 21,
      "outputs": [
        {
          "output_type": "stream",
          "name": "stdout",
          "text": [
            "Tensor all emg raw shape: (11181, 101, 5)\n"
          ]
        }
      ]
    },
    {
      "cell_type": "code",
      "source": [
        "model=make_model_1D(X_train.shape[1:],64,64,100,3,2,RMSprop(lr=0.001)) \n",
        "history= model.fit(X_train,y_train, epochs=100, batch_size=200,validation_data=(X_test, y_test))"
      ],
      "metadata": {
        "colab": {
          "base_uri": "https://localhost:8080/"
        },
        "id": "8XXWsZZa19jV",
        "outputId": "f9933db3-0a3b-4825-d571-907af7f925df"
      },
      "execution_count": 22,
      "outputs": [
        {
          "output_type": "stream",
          "name": "stdout",
          "text": [
            "Epoch 1/100\n"
          ]
        },
        {
          "output_type": "stream",
          "name": "stderr",
          "text": [
            "/usr/local/lib/python3.7/dist-packages/keras/optimizer_v2/rmsprop.py:130: UserWarning: The `lr` argument is deprecated, use `learning_rate` instead.\n",
            "  super(RMSprop, self).__init__(name, **kwargs)\n"
          ]
        },
        {
          "output_type": "stream",
          "name": "stdout",
          "text": [
            "45/45 [==============================] - 5s 87ms/step - loss: 1.1189 - accuracy: 0.5570 - val_loss: 0.6970 - val_accuracy: 0.5756\n",
            "Epoch 2/100\n",
            "45/45 [==============================] - 4s 81ms/step - loss: 0.6513 - accuracy: 0.6259 - val_loss: 0.6196 - val_accuracy: 0.6775\n",
            "Epoch 3/100\n",
            "45/45 [==============================] - 4s 81ms/step - loss: 0.6072 - accuracy: 0.6709 - val_loss: 0.6986 - val_accuracy: 0.6140\n",
            "Epoch 4/100\n",
            "45/45 [==============================] - 4s 81ms/step - loss: 0.5599 - accuracy: 0.7193 - val_loss: 0.6087 - val_accuracy: 0.6981\n",
            "Epoch 5/100\n",
            "45/45 [==============================] - 4s 81ms/step - loss: 0.5139 - accuracy: 0.7447 - val_loss: 0.5598 - val_accuracy: 0.7330\n",
            "Epoch 6/100\n",
            "45/45 [==============================] - 4s 81ms/step - loss: 0.4633 - accuracy: 0.7904 - val_loss: 0.6204 - val_accuracy: 0.7062\n",
            "Epoch 7/100\n",
            "45/45 [==============================] - 4s 81ms/step - loss: 0.4346 - accuracy: 0.8008 - val_loss: 0.5353 - val_accuracy: 0.7563\n",
            "Epoch 8/100\n",
            "45/45 [==============================] - 4s 81ms/step - loss: 0.3891 - accuracy: 0.8246 - val_loss: 0.8773 - val_accuracy: 0.6006\n",
            "Epoch 9/100\n",
            "45/45 [==============================] - 4s 81ms/step - loss: 0.3555 - accuracy: 0.8462 - val_loss: 0.5792 - val_accuracy: 0.7446\n",
            "Epoch 10/100\n",
            "45/45 [==============================] - 4s 81ms/step - loss: 0.3210 - accuracy: 0.8639 - val_loss: 0.5969 - val_accuracy: 0.7652\n",
            "Epoch 11/100\n",
            "45/45 [==============================] - 4s 81ms/step - loss: 0.2965 - accuracy: 0.8711 - val_loss: 0.6598 - val_accuracy: 0.7218\n",
            "Epoch 12/100\n",
            "45/45 [==============================] - 4s 81ms/step - loss: 0.2519 - accuracy: 0.8990 - val_loss: 0.6084 - val_accuracy: 0.7665\n",
            "Epoch 13/100\n",
            "45/45 [==============================] - 4s 82ms/step - loss: 0.2287 - accuracy: 0.9084 - val_loss: 0.6750 - val_accuracy: 0.7724\n",
            "Epoch 14/100\n",
            "45/45 [==============================] - 4s 82ms/step - loss: 0.2025 - accuracy: 0.9245 - val_loss: 0.8489 - val_accuracy: 0.7115\n",
            "Epoch 15/100\n",
            "45/45 [==============================] - 4s 81ms/step - loss: 0.1739 - accuracy: 0.9353 - val_loss: 0.7314 - val_accuracy: 0.7697\n",
            "Epoch 16/100\n",
            "45/45 [==============================] - 4s 81ms/step - loss: 0.1578 - accuracy: 0.9411 - val_loss: 0.7616 - val_accuracy: 0.7786\n",
            "Epoch 17/100\n",
            "45/45 [==============================] - 4s 82ms/step - loss: 0.1328 - accuracy: 0.9518 - val_loss: 0.8608 - val_accuracy: 0.7920\n",
            "Epoch 18/100\n",
            "45/45 [==============================] - 4s 82ms/step - loss: 0.1273 - accuracy: 0.9527 - val_loss: 0.8672 - val_accuracy: 0.7657\n",
            "Epoch 19/100\n",
            "45/45 [==============================] - 4s 81ms/step - loss: 0.1133 - accuracy: 0.9591 - val_loss: 0.8218 - val_accuracy: 0.7898\n",
            "Epoch 20/100\n",
            "45/45 [==============================] - 4s 81ms/step - loss: 0.0811 - accuracy: 0.9740 - val_loss: 1.0131 - val_accuracy: 0.7733\n",
            "Epoch 21/100\n",
            "45/45 [==============================] - 4s 82ms/step - loss: 0.0852 - accuracy: 0.9754 - val_loss: 0.9991 - val_accuracy: 0.7719\n",
            "Epoch 22/100\n",
            "45/45 [==============================] - 4s 82ms/step - loss: 0.0703 - accuracy: 0.9763 - val_loss: 1.0000 - val_accuracy: 0.7809\n",
            "Epoch 23/100\n",
            "45/45 [==============================] - 4s 81ms/step - loss: 0.0554 - accuracy: 0.9817 - val_loss: 1.5170 - val_accuracy: 0.7013\n",
            "Epoch 24/100\n",
            "45/45 [==============================] - 4s 82ms/step - loss: 0.0640 - accuracy: 0.9789 - val_loss: 1.0589 - val_accuracy: 0.7880\n",
            "Epoch 25/100\n",
            "45/45 [==============================] - 4s 81ms/step - loss: 0.0734 - accuracy: 0.9807 - val_loss: 1.0970 - val_accuracy: 0.7871\n",
            "Epoch 26/100\n",
            "45/45 [==============================] - 4s 82ms/step - loss: 0.0565 - accuracy: 0.9790 - val_loss: 1.2206 - val_accuracy: 0.7522\n",
            "Epoch 27/100\n",
            "45/45 [==============================] - 4s 81ms/step - loss: 0.0553 - accuracy: 0.9840 - val_loss: 1.1200 - val_accuracy: 0.7818\n",
            "Epoch 28/100\n",
            "45/45 [==============================] - 4s 81ms/step - loss: 0.0433 - accuracy: 0.9881 - val_loss: 1.1817 - val_accuracy: 0.7853\n",
            "Epoch 29/100\n",
            "45/45 [==============================] - 4s 82ms/step - loss: 0.0436 - accuracy: 0.9878 - val_loss: 1.1656 - val_accuracy: 0.7822\n",
            "Epoch 30/100\n",
            "45/45 [==============================] - 4s 82ms/step - loss: 0.0323 - accuracy: 0.9894 - val_loss: 1.2204 - val_accuracy: 0.7903\n",
            "Epoch 31/100\n",
            "45/45 [==============================] - 4s 82ms/step - loss: 0.0500 - accuracy: 0.9862 - val_loss: 1.2010 - val_accuracy: 0.7876\n",
            "Epoch 32/100\n",
            "45/45 [==============================] - 4s 81ms/step - loss: 0.0515 - accuracy: 0.9876 - val_loss: 1.2119 - val_accuracy: 0.7898\n",
            "Epoch 33/100\n",
            "45/45 [==============================] - 4s 82ms/step - loss: 0.0419 - accuracy: 0.9877 - val_loss: 1.1961 - val_accuracy: 0.7826\n",
            "Epoch 34/100\n",
            "45/45 [==============================] - 4s 81ms/step - loss: 0.0056 - accuracy: 0.9998 - val_loss: 1.6262 - val_accuracy: 0.7581\n",
            "Epoch 35/100\n",
            "45/45 [==============================] - 4s 82ms/step - loss: 0.0483 - accuracy: 0.9881 - val_loss: 1.4721 - val_accuracy: 0.7956\n",
            "Epoch 36/100\n",
            "45/45 [==============================] - 4s 81ms/step - loss: 0.0941 - accuracy: 0.9829 - val_loss: 1.3571 - val_accuracy: 0.7898\n",
            "Epoch 37/100\n",
            "45/45 [==============================] - 4s 82ms/step - loss: 0.0631 - accuracy: 0.9871 - val_loss: 1.3620 - val_accuracy: 0.7800\n",
            "Epoch 38/100\n",
            "45/45 [==============================] - 4s 83ms/step - loss: 0.0060 - accuracy: 0.9993 - val_loss: 1.4949 - val_accuracy: 0.7862\n",
            "Epoch 39/100\n",
            "45/45 [==============================] - 4s 82ms/step - loss: 0.0524 - accuracy: 0.9873 - val_loss: 1.4338 - val_accuracy: 0.7889\n",
            "Epoch 40/100\n",
            "45/45 [==============================] - 4s 82ms/step - loss: 0.0016 - accuracy: 1.0000 - val_loss: 1.5771 - val_accuracy: 0.7773\n",
            "Epoch 41/100\n",
            "45/45 [==============================] - 4s 81ms/step - loss: 0.0668 - accuracy: 0.9870 - val_loss: 1.5555 - val_accuracy: 0.7737\n",
            "Epoch 42/100\n",
            "45/45 [==============================] - 4s 81ms/step - loss: 0.0487 - accuracy: 0.9883 - val_loss: 1.2933 - val_accuracy: 0.7701\n",
            "Epoch 43/100\n",
            "45/45 [==============================] - 4s 82ms/step - loss: 0.0038 - accuracy: 0.9998 - val_loss: 1.5291 - val_accuracy: 0.7898\n",
            "Epoch 44/100\n",
            "45/45 [==============================] - 4s 81ms/step - loss: 0.0465 - accuracy: 0.9892 - val_loss: 1.4435 - val_accuracy: 0.7840\n",
            "Epoch 45/100\n",
            "45/45 [==============================] - 4s 82ms/step - loss: 0.0010 - accuracy: 1.0000 - val_loss: 1.6622 - val_accuracy: 0.7858\n",
            "Epoch 46/100\n",
            "45/45 [==============================] - 4s 82ms/step - loss: 0.0591 - accuracy: 0.9874 - val_loss: 1.5183 - val_accuracy: 0.7840\n",
            "Epoch 47/100\n",
            "45/45 [==============================] - 4s 82ms/step - loss: 7.5254e-04 - accuracy: 1.0000 - val_loss: 1.7263 - val_accuracy: 0.7894\n",
            "Epoch 48/100\n",
            "45/45 [==============================] - 4s 82ms/step - loss: 0.0618 - accuracy: 0.9869 - val_loss: 1.5788 - val_accuracy: 0.7844\n",
            "Epoch 49/100\n",
            "45/45 [==============================] - 4s 83ms/step - loss: 4.5694e-04 - accuracy: 1.0000 - val_loss: 1.7390 - val_accuracy: 0.7952\n",
            "Epoch 50/100\n",
            "45/45 [==============================] - 4s 82ms/step - loss: 0.0658 - accuracy: 0.9869 - val_loss: 1.6126 - val_accuracy: 0.7894\n",
            "Epoch 51/100\n",
            "45/45 [==============================] - 4s 82ms/step - loss: 4.2782e-04 - accuracy: 1.0000 - val_loss: 1.7606 - val_accuracy: 0.7894\n",
            "Epoch 52/100\n",
            "45/45 [==============================] - 4s 83ms/step - loss: 0.0541 - accuracy: 0.9881 - val_loss: 1.6212 - val_accuracy: 0.7907\n",
            "Epoch 53/100\n",
            "45/45 [==============================] - 4s 82ms/step - loss: 3.7344e-04 - accuracy: 1.0000 - val_loss: 1.7682 - val_accuracy: 0.7885\n",
            "Epoch 54/100\n",
            "45/45 [==============================] - 4s 83ms/step - loss: 0.0665 - accuracy: 0.9898 - val_loss: 1.6644 - val_accuracy: 0.7813\n",
            "Epoch 55/100\n",
            "45/45 [==============================] - 4s 83ms/step - loss: 5.2043e-04 - accuracy: 1.0000 - val_loss: 1.8549 - val_accuracy: 0.7813\n",
            "Epoch 56/100\n",
            "45/45 [==============================] - 4s 82ms/step - loss: 0.0745 - accuracy: 0.9869 - val_loss: 1.5704 - val_accuracy: 0.7737\n",
            "Epoch 57/100\n",
            "45/45 [==============================] - 4s 84ms/step - loss: 0.0012 - accuracy: 1.0000 - val_loss: 1.7295 - val_accuracy: 0.7911\n",
            "Epoch 58/100\n",
            "45/45 [==============================] - 4s 82ms/step - loss: 1.4301e-04 - accuracy: 1.0000 - val_loss: 1.9304 - val_accuracy: 0.7849\n",
            "Epoch 59/100\n",
            "45/45 [==============================] - 4s 82ms/step - loss: 0.0627 - accuracy: 0.9881 - val_loss: 1.6301 - val_accuracy: 0.7773\n",
            "Epoch 60/100\n",
            "45/45 [==============================] - 4s 82ms/step - loss: 4.0806e-04 - accuracy: 1.0000 - val_loss: 1.8687 - val_accuracy: 0.7885\n",
            "Epoch 61/100\n",
            "45/45 [==============================] - 4s 82ms/step - loss: 6.4190e-05 - accuracy: 1.0000 - val_loss: 2.0608 - val_accuracy: 0.7853\n",
            "Epoch 62/100\n",
            "45/45 [==============================] - 4s 83ms/step - loss: 0.0985 - accuracy: 0.9869 - val_loss: 1.7414 - val_accuracy: 0.7862\n",
            "Epoch 63/100\n",
            "45/45 [==============================] - 4s 83ms/step - loss: 2.0391e-04 - accuracy: 1.0000 - val_loss: 1.9340 - val_accuracy: 0.7903\n",
            "Epoch 64/100\n",
            "45/45 [==============================] - 4s 82ms/step - loss: 0.0715 - accuracy: 0.9871 - val_loss: 1.5681 - val_accuracy: 0.7885\n",
            "Epoch 65/100\n",
            "45/45 [==============================] - 4s 82ms/step - loss: 0.0014 - accuracy: 1.0000 - val_loss: 1.8730 - val_accuracy: 0.7862\n",
            "Epoch 66/100\n",
            "45/45 [==============================] - 4s 82ms/step - loss: 1.0304e-04 - accuracy: 1.0000 - val_loss: 2.0269 - val_accuracy: 0.7907\n",
            "Epoch 67/100\n",
            "45/45 [==============================] - 4s 83ms/step - loss: 0.1044 - accuracy: 0.9865 - val_loss: 1.7496 - val_accuracy: 0.7844\n",
            "Epoch 68/100\n",
            "45/45 [==============================] - 4s 82ms/step - loss: 4.8696e-04 - accuracy: 1.0000 - val_loss: 1.9235 - val_accuracy: 0.7920\n",
            "Epoch 69/100\n",
            "45/45 [==============================] - 4s 82ms/step - loss: 8.1559e-05 - accuracy: 1.0000 - val_loss: 2.1057 - val_accuracy: 0.7844\n",
            "Epoch 70/100\n",
            "45/45 [==============================] - 4s 83ms/step - loss: 0.0977 - accuracy: 0.9860 - val_loss: 1.7653 - val_accuracy: 0.7840\n",
            "Epoch 71/100\n",
            "45/45 [==============================] - 4s 82ms/step - loss: 3.1983e-04 - accuracy: 1.0000 - val_loss: 1.9319 - val_accuracy: 0.7867\n",
            "Epoch 72/100\n",
            "45/45 [==============================] - 4s 82ms/step - loss: 4.9200e-05 - accuracy: 1.0000 - val_loss: 2.1221 - val_accuracy: 0.7894\n",
            "Epoch 73/100\n",
            "45/45 [==============================] - 4s 83ms/step - loss: 0.1078 - accuracy: 0.9880 - val_loss: 1.7846 - val_accuracy: 0.7791\n",
            "Epoch 74/100\n",
            "45/45 [==============================] - 4s 83ms/step - loss: 3.7093e-04 - accuracy: 1.0000 - val_loss: 1.8888 - val_accuracy: 0.7849\n",
            "Epoch 75/100\n",
            "45/45 [==============================] - 4s 82ms/step - loss: 5.4975e-05 - accuracy: 1.0000 - val_loss: 2.0826 - val_accuracy: 0.7889\n",
            "Epoch 76/100\n",
            "45/45 [==============================] - 4s 82ms/step - loss: 0.0920 - accuracy: 0.9881 - val_loss: 1.8219 - val_accuracy: 0.7844\n",
            "Epoch 77/100\n",
            "45/45 [==============================] - 4s 82ms/step - loss: 4.1655e-04 - accuracy: 1.0000 - val_loss: 1.9414 - val_accuracy: 0.7862\n",
            "Epoch 78/100\n",
            "45/45 [==============================] - 4s 83ms/step - loss: 5.9475e-05 - accuracy: 1.0000 - val_loss: 2.0835 - val_accuracy: 0.7880\n",
            "Epoch 79/100\n",
            "45/45 [==============================] - 4s 82ms/step - loss: 0.1268 - accuracy: 0.9835 - val_loss: 1.7322 - val_accuracy: 0.7849\n",
            "Epoch 80/100\n",
            "45/45 [==============================] - 4s 82ms/step - loss: 5.2055e-04 - accuracy: 1.0000 - val_loss: 1.9860 - val_accuracy: 0.7862\n",
            "Epoch 81/100\n",
            "45/45 [==============================] - 4s 82ms/step - loss: 5.2561e-05 - accuracy: 1.0000 - val_loss: 2.0604 - val_accuracy: 0.7894\n",
            "Epoch 82/100\n",
            "45/45 [==============================] - 4s 83ms/step - loss: 0.0702 - accuracy: 0.9908 - val_loss: 1.8089 - val_accuracy: 0.7768\n",
            "Epoch 83/100\n",
            "45/45 [==============================] - 4s 83ms/step - loss: 0.0012 - accuracy: 0.9999 - val_loss: 1.9375 - val_accuracy: 0.7867\n",
            "Epoch 84/100\n",
            "45/45 [==============================] - 4s 82ms/step - loss: 6.7341e-05 - accuracy: 1.0000 - val_loss: 2.0806 - val_accuracy: 0.7885\n",
            "Epoch 85/100\n",
            "45/45 [==============================] - 4s 83ms/step - loss: 0.1142 - accuracy: 0.9849 - val_loss: 1.7869 - val_accuracy: 0.7648\n",
            "Epoch 86/100\n",
            "45/45 [==============================] - 4s 82ms/step - loss: 0.0022 - accuracy: 0.9997 - val_loss: 1.9502 - val_accuracy: 0.7826\n",
            "Epoch 87/100\n",
            "45/45 [==============================] - 4s 83ms/step - loss: 9.1662e-05 - accuracy: 1.0000 - val_loss: 2.1092 - val_accuracy: 0.7844\n",
            "Epoch 88/100\n",
            "45/45 [==============================] - 4s 82ms/step - loss: 1.4849e-05 - accuracy: 1.0000 - val_loss: 2.2993 - val_accuracy: 0.7903\n",
            "Epoch 89/100\n",
            "45/45 [==============================] - 4s 82ms/step - loss: 0.1403 - accuracy: 0.9851 - val_loss: 1.9303 - val_accuracy: 0.7871\n",
            "Epoch 90/100\n",
            "45/45 [==============================] - 4s 83ms/step - loss: 2.8065e-04 - accuracy: 1.0000 - val_loss: 2.0382 - val_accuracy: 0.7880\n",
            "Epoch 91/100\n",
            "45/45 [==============================] - 4s 83ms/step - loss: 3.4074e-05 - accuracy: 1.0000 - val_loss: 2.2113 - val_accuracy: 0.7885\n",
            "Epoch 92/100\n",
            "45/45 [==============================] - 4s 83ms/step - loss: 8.3034e-06 - accuracy: 1.0000 - val_loss: 2.5124 - val_accuracy: 0.7782\n",
            "Epoch 93/100\n",
            "45/45 [==============================] - 4s 82ms/step - loss: 0.0728 - accuracy: 0.9895 - val_loss: 1.9625 - val_accuracy: 0.7871\n",
            "Epoch 94/100\n",
            "45/45 [==============================] - 4s 83ms/step - loss: 6.0255e-05 - accuracy: 1.0000 - val_loss: 2.1431 - val_accuracy: 0.7907\n",
            "Epoch 95/100\n",
            "45/45 [==============================] - 4s 83ms/step - loss: 1.1695e-05 - accuracy: 1.0000 - val_loss: 2.3534 - val_accuracy: 0.7894\n",
            "Epoch 96/100\n",
            "45/45 [==============================] - 4s 82ms/step - loss: 0.0662 - accuracy: 0.9893 - val_loss: 1.9775 - val_accuracy: 0.7849\n",
            "Epoch 97/100\n",
            "45/45 [==============================] - 4s 82ms/step - loss: 0.0029 - accuracy: 0.9990 - val_loss: 2.1544 - val_accuracy: 0.7822\n",
            "Epoch 98/100\n",
            "45/45 [==============================] - 4s 83ms/step - loss: 0.0585 - accuracy: 0.9887 - val_loss: 1.8436 - val_accuracy: 0.7858\n",
            "Epoch 99/100\n",
            "45/45 [==============================] - 4s 83ms/step - loss: 5.2631e-04 - accuracy: 0.9999 - val_loss: 1.9427 - val_accuracy: 0.7853\n",
            "Epoch 100/100\n",
            "45/45 [==============================] - 4s 83ms/step - loss: 8.9102e-05 - accuracy: 1.0000 - val_loss: 2.1403 - val_accuracy: 0.7840\n"
          ]
        }
      ]
    },
    {
      "cell_type": "code",
      "source": [
        "#plot train/validation loss and train/validation accuracy \n",
        "history_dict = history.history\n",
        "loss_values=history_dict['loss']\n",
        "epochs = range(1, len(loss_values) + 1)\n",
        "plt.plot(epochs,history_dict['loss'])\n",
        "plt.plot(epochs, history_dict['val_loss'])\n",
        "plt.title('Model loss')\n",
        "plt.ylabel('Loss')\n",
        "plt.xlabel('Epochs')\n",
        "plt.legend(['train', 'val'], loc='upper left')\n",
        "plt.show()\n",
        "\n",
        "accuracy_values = history_dict['accuracy']\n",
        "val_accuracy= history_dict['val_accuracy']\n",
        "plt.plot(epochs, accuracy_values)\n",
        "plt.plot(epochs, val_accuracy)\n",
        "plt.title('Accuracy of training and validation set') \n",
        "plt.xlabel('Epochs')\n",
        "plt.ylabel('Accuracy')\n",
        "plt.legend(['train', 'val'], loc='upper left')\n",
        "plt.show()"
      ],
      "metadata": {
        "colab": {
          "base_uri": "https://localhost:8080/",
          "height": 573
        },
        "id": "oP1Lb6-Z4Sum",
        "outputId": "63b2baff-8042-4785-bf18-9014ebcb3d57"
      },
      "execution_count": 23,
      "outputs": [
        {
          "output_type": "display_data",
          "data": {
            "text/plain": [
              "<Figure size 432x288 with 1 Axes>"
            ],
            "image/png": "[encoded data removed]"
          },
          "metadata": {
            "needs_background": "light"
          }
        },
        {
          "output_type": "display_data",
          "data": {
            "text/plain": [
              "<Figure size 432x288 with 1 Axes>"
            ],
            "image/png": "[encoded data removed]"
          },
          "metadata": {
            "needs_background": "light"
          }
        }
      ]
    },
    {
      "cell_type": "markdown",
      "source": [
        "## GYRO-MERGE IMU_EMG GC"
      ],
      "metadata": {
        "id": "gJLmg-ip3i6j"
      }
    },
    {
      "cell_type": "markdown",
      "source": [
        "GYRO SPLIT SUBJECT WISE"
      ],
      "metadata": {
        "id": "20JnTmTW3v4q"
      }
    },
    {
      "cell_type": "markdown",
      "source": [
        "FIGURE OUT IF THERE IS A PROBLEM WITH THE VALIDATION SET--DIFFERENT SIZES"
      ],
      "metadata": {
        "id": "6SU4Y_PS89O5"
      }
    },
    {
      "cell_type": "code",
      "source": [
        "ALL_data_gyro=seperate_IMU_signals('gyro',ALL_data_NS)\n",
        "print(\"Tensor all gyro shape:\", ALL_data_gyro.shape)\n",
        "#seperate train,validation and test set for gyro \n",
        "X_train,y_train,X_test,y_test,X_validation, y_validation=final_prep(ALL_data_gyro, ALL_Surfaces_NS.to_numpy(), ALL_Participants_numb_NS.to_numpy(),True)"
      ],
      "metadata": {
        "id": "OInrkUhB19hT"
      },
      "execution_count": null,
      "outputs": []
    },
    {
      "cell_type": "code",
      "source": [
        "model=make_model_1D(X_train.shape[1:],64,64,100,3,2,RMSprop(lr=0.001))\n",
        "history= model.fit(X_train,y_train, epochs=100, batch_size=200,validation_data=(X_validation, y_validation))"
      ],
      "metadata": {
        "id": "JDPP2TJ819en"
      },
      "execution_count": null,
      "outputs": []
    },
    {
      "cell_type": "code",
      "source": [
        "#plot train/validation loss and train/validation accuracy \n",
        "history_dict = history.history\n",
        "loss_values=history_dict['loss']\n",
        "epochs = range(1, len(loss_values) + 1)\n",
        "plt.plot(epochs,history_dict['loss'])\n",
        "plt.plot(epochs, history_dict['val_loss'])\n",
        "plt.title('Model loss')\n",
        "plt.ylabel('Loss')\n",
        "plt.xlabel('Epochs')\n",
        "plt.legend(['train', 'val'], loc='upper left')\n",
        "plt.show()\n",
        "\n",
        "accuracy_values = history_dict['accuracy']\n",
        "val_accuracy= history_dict['val_accuracy']\n",
        "plt.plot(epochs, accuracy_values)\n",
        "plt.plot(epochs, val_accuracy)\n",
        "plt.title('Accuracy of training and validation set') \n",
        "plt.xlabel('Epochs')\n",
        "plt.ylabel('Accuracy')\n",
        "plt.legend(['train', 'val'], loc='upper left')\n",
        "plt.show()"
      ],
      "metadata": {
        "id": "75rOwh3H5Aqm"
      },
      "execution_count": null,
      "outputs": []
    },
    {
      "cell_type": "markdown",
      "source": [
        "GYRO SPLIT NOT SUBJECT WISE"
      ],
      "metadata": {
        "id": "pS1Y7To_30gK"
      }
    },
    {
      "cell_type": "code",
      "source": [
        "ALL_data_gyro=seperate_IMU_signals('gyro',ALL_data_NS)\n",
        "print(\"Tensor all gyro shape:\", ALL_data_gyro.shape)\n",
        "#seperate train,validation and test set for gyro \n",
        "X_train,y_train,X_test,y_test,X_validation, y_validation=final_prep(ALL_data_gyro, ALL_Surfaces_NS.to_numpy(), ALL_Participants_numb_NS.to_numpy(),False)"
      ],
      "metadata": {
        "id": "lebJgcPN19cb"
      },
      "execution_count": null,
      "outputs": []
    },
    {
      "cell_type": "code",
      "source": [
        "model=make_model_1D(X_train.shape[1:],64,64,100,3,2,RMSprop(lr=0.001))\n",
        "history= model.fit(X_train,y_train, epochs=100, batch_size=200,validation_data=(X_validation, y_validation))"
      ],
      "metadata": {
        "id": "ajONK4qZ19Z5"
      },
      "execution_count": null,
      "outputs": []
    },
    {
      "cell_type": "code",
      "source": [
        "#plot train/validation loss and train/validation accuracy \n",
        "history_dict = history.history\n",
        "loss_values=history_dict['loss']\n",
        "epochs = range(1, len(loss_values) + 1)\n",
        "plt.plot(epochs,history_dict['loss'])\n",
        "plt.plot(epochs, history_dict['val_loss'])\n",
        "plt.title('Model loss')\n",
        "plt.ylabel('Loss')\n",
        "plt.xlabel('Epochs')\n",
        "plt.legend(['train', 'val'], loc='upper left')\n",
        "plt.show()\n",
        "\n",
        "accuracy_values = history_dict['accuracy']\n",
        "val_accuracy= history_dict['val_accuracy']\n",
        "plt.plot(epochs, accuracy_values)\n",
        "plt.plot(epochs, val_accuracy)\n",
        "plt.title('Accuracy of training and validation set') \n",
        "plt.xlabel('Epochs')\n",
        "plt.ylabel('Accuracy')\n",
        "plt.legend(['train', 'val'], loc='upper left')\n",
        "plt.show()"
      ],
      "metadata": {
        "id": "eNpKzTgo5BXB"
      },
      "execution_count": null,
      "outputs": []
    },
    {
      "cell_type": "markdown",
      "source": [
        "## ACC- MERGE_IMU_EMG_GC"
      ],
      "metadata": {
        "id": "Ebv3oXuT34aj"
      }
    },
    {
      "cell_type": "markdown",
      "source": [
        "ACC- SPLIT SUBJECT WISE"
      ],
      "metadata": {
        "id": "TDRxrZYM5DaT"
      }
    },
    {
      "cell_type": "code",
      "source": [
        "ALL_data_acc=seperate_IMU_signals('acc',ALL_data_NS)\n",
        "print(\"Tensor all acc shape:\", ALL_data_acc.shape)\n",
        "#seperate train,validation and test set for acc\n",
        "X_train,y_train,X_test,y_test,X_validation, y_validation=final_prep(ALL_data_acc, ALL_Surfaces_NS.to_numpy(), ALL_Participants_numb_NS.to_numpy(),True)"
      ],
      "metadata": {
        "colab": {
          "base_uri": "https://localhost:8080/"
        },
        "id": "qQP-RHTp19Xe",
        "outputId": "671fa1ff-1e0f-4b5d-afaf-801d4965141a"
      },
      "execution_count": 16,
      "outputs": [
        {
          "output_type": "stream",
          "name": "stdout",
          "text": [
            "Tensor all acc shape: (11181, 101, 47)\n",
            "Tensor train emg raw shape: (6506, 101, 47)\n",
            "Tensor validation emg raw shape: (2832, 101, 47)\n",
            "Tensor test emg raw shape: (1843, 101, 47)\n"
          ]
        }
      ]
    },
    {
      "cell_type": "code",
      "source": [
        "model=make_model_1D(X_train.shape[1:],64,64,100,3,2,RMSprop(lr=0.001))\n",
        "history= model.fit(X_train,y_train, epochs=100, batch_size=200,validation_data=(X_validation, y_validation))"
      ],
      "metadata": {
        "id": "3HXDa45e19Vy"
      },
      "execution_count": null,
      "outputs": []
    },
    {
      "cell_type": "code",
      "source": [
        "#plot train/validation loss and train/validation accuracy \n",
        "history_dict = history.history\n",
        "loss_values=history_dict['loss']\n",
        "epochs = range(1, len(loss_values) + 1)\n",
        "plt.plot(epochs,history_dict['loss'])\n",
        "plt.plot(epochs, history_dict['val_loss'])\n",
        "plt.title('Model loss')\n",
        "plt.ylabel('Loss')\n",
        "plt.xlabel('Epochs')\n",
        "plt.legend(['train', 'val'], loc='upper left')\n",
        "plt.show()\n",
        "\n",
        "accuracy_values = history_dict['accuracy']\n",
        "val_accuracy= history_dict['val_accuracy']\n",
        "plt.plot(epochs, accuracy_values)\n",
        "plt.plot(epochs, val_accuracy)\n",
        "plt.title('Accuracy of training and validation set') \n",
        "plt.xlabel('Epochs')\n",
        "plt.ylabel('Accuracy')\n",
        "plt.legend(['train', 'val'], loc='upper left')\n",
        "plt.show()"
      ],
      "metadata": {
        "id": "31SKdfvh5CA2"
      },
      "execution_count": null,
      "outputs": []
    },
    {
      "cell_type": "markdown",
      "source": [
        "ACC- SPLIT NOT SUBJECT WISE"
      ],
      "metadata": {
        "id": "lNZMPmtX5IbP"
      }
    },
    {
      "cell_type": "code",
      "source": [
        "ALL_data_acc=seperate_IMU_signals('acc',ALL_data_NS)\n",
        "print(\"Tensor all acc shape:\", ALL_data_acc.shape)\n",
        "#seperate train,validation and test set for acc\n",
        "X_train,y_train,X_test,y_test,X_validation, y_validation=final_prep(ALL_data_acc, ALL_Surfaces_NS.to_numpy(), ALL_Participants_numb_NS.to_numpy(),False)"
      ],
      "metadata": {
        "id": "kMxeYovZ19S5"
      },
      "execution_count": null,
      "outputs": []
    },
    {
      "cell_type": "code",
      "source": [
        "model=make_model_1D(X_train.shape[1:],64,64,100,3,2,RMSprop(lr=0.001))\n",
        "history= model.fit(X_train,y_train, epochs=100, batch_size=200,validation_data=(X_validation, y_validation))"
      ],
      "metadata": {
        "id": "zSbjdgOR19OB"
      },
      "execution_count": null,
      "outputs": []
    },
    {
      "cell_type": "code",
      "source": [
        "#plot train/validation loss and train/validation accuracy \n",
        "history_dict = history.history\n",
        "loss_values=history_dict['loss']\n",
        "epochs = range(1, len(loss_values) + 1)\n",
        "plt.plot(epochs,history_dict['loss'])\n",
        "plt.plot(epochs, history_dict['val_loss'])\n",
        "plt.title('Model loss')\n",
        "plt.ylabel('Loss')\n",
        "plt.xlabel('Epochs')\n",
        "plt.legend(['train', 'val'], loc='upper left')\n",
        "plt.show()\n",
        "\n",
        "accuracy_values = history_dict['accuracy']\n",
        "val_accuracy= history_dict['val_accuracy']\n",
        "plt.plot(epochs, accuracy_values)\n",
        "plt.plot(epochs, val_accuracy)\n",
        "plt.title('Accuracy of training and validation set') \n",
        "plt.xlabel('Epochs')\n",
        "plt.ylabel('Accuracy')\n",
        "plt.legend(['train', 'val'], loc='upper left')\n",
        "plt.show()"
      ],
      "metadata": {
        "id": "SoHCqarw5Clt"
      },
      "execution_count": null,
      "outputs": []
    },
    {
      "cell_type": "markdown",
      "source": [
        "#GC_NS_BASED ON ONLY IMU"
      ],
      "metadata": {
        "id": "wB0SsLqJsT4b"
      }
    },
    {
      "cell_type": "markdown",
      "source": [
        "## ACC"
      ],
      "metadata": {
        "id": "vUEoXqQRsXsq"
      }
    },
    {
      "cell_type": "code",
      "source": [
        ""
      ],
      "metadata": {
        "id": "9Qd_u2zusb75"
      },
      "execution_count": null,
      "outputs": []
    },
    {
      "cell_type": "markdown",
      "source": [
        "## GYRO"
      ],
      "metadata": {
        "id": "-7vnoXIQsZsl"
      }
    },
    {
      "cell_type": "code",
      "source": [
        ""
      ],
      "metadata": {
        "id": "MPl01M5vsbXr"
      },
      "execution_count": null,
      "outputs": []
    }
  ]
}