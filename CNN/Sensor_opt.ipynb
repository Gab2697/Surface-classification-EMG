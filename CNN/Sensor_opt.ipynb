{
  "nbformat": 4,
  "nbformat_minor": 0,
  "metadata": {
    "colab": {
      "name": "Sensor_opt.ipynb",
      "provenance": [],
      "authorship_tag": "ABX9TyM34uVOwTTQuPVsMy4uKam8",
      "include_colab_link": true
    },
    "kernelspec": {
      "name": "python3",
      "display_name": "Python 3"
    },
    "language_info": {
      "name": "python"
    }
  },
  "cells": [
    {
      "cell_type": "markdown",
      "metadata": {
        "id": "view-in-github",
        "colab_type": "text"
      },
      "source": [
        "<a href=\"https://colab.research.google.com/github/Gab2697/Surface-classification-EMG-IMU/blob/main/CNN/Sensor_opt.ipynb\" target=\"_parent\"><img src=\"https://colab.research.google.com/assets/colab-badge.svg\" alt=\"Open In Colab\"/></a>"
      ]
    },
    {
      "cell_type": "markdown",
      "source": [
        "# Import and functions"
      ],
      "metadata": {
        "id": "K3zC9Gwr8Q2v"
      }
    },
    {
      "cell_type": "code",
      "execution_count": 1,
      "metadata": {
        "id": "82cmXg_cmOC8"
      },
      "outputs": [],
      "source": [
        "#import\n",
        "import pandas as pd\n",
        "import tensorflow as tf\n",
        "import numpy as np\n",
        "import pickle\n",
        "import matplotlib.pyplot as plt\n",
        "from scipy.io import loadmat\n",
        "\n",
        "from keras import layers \n",
        "from keras import models\n",
        "from keras import regularizers\n",
        "import glob\n",
        "\n",
        "from sklearn.model_selection import KFold\n",
        "from tensorflow.keras.models import Sequential\n",
        "from tensorflow.keras.layers import Dense, Flatten, Conv1D, MaxPooling1D, Dropout\n",
        "from tensorflow.keras.losses import binary_crossentropy, categorical_crossentropy\n",
        "from tensorflow.keras.optimizers import Adam, SGD, RMSprop"
      ]
    },
    {
      "cell_type": "code",
      "source": [
        "from google.colab import drive\n",
        "drive.mount('/content/drive')"
      ],
      "metadata": {
        "colab": {
          "base_uri": "https://localhost:8080/"
        },
        "id": "5mtx4ZC4nmlI",
        "outputId": "529860d0-c513-42bc-b654-a34eca2eb4f4"
      },
      "execution_count": 2,
      "outputs": [
        {
          "output_type": "stream",
          "name": "stdout",
          "text": [
            "Mounted at /content/drive\n"
          ]
        }
      ]
    },
    {
      "cell_type": "code",
      "source": [
        "#================================mat to tensor================================\n",
        "def mat_to_tensor(path_mat):\n",
        "  data=loadmat(path_mat)\n",
        "  keys=list(data['data'].dtype.fields.keys())\n",
        "  da=np.array(data['data'][keys[0]])\n",
        "  for i in range(1,len(keys)-2):\n",
        "      da=np.append(da,data['data'][keys[i]],axis=1)\n",
        "  da=np.append(da,data['data'][keys[-2]],axis=1)\n",
        "  da=np.append(da,data['data'][keys[-1]],axis=1)\n",
        "  da=pd.DataFrame(da,columns=keys)\n",
        "  Participant= da['Subject']\n",
        "  Surface= da['Conditions'] \n",
        "  # from 2d to 3d\n",
        "  Ndata=da\n",
        "  Parameters=Ndata.keys()\n",
        "  GC_len=Ndata.iloc[1,1].shape[0]\n",
        "  data1=np.zeros([Ndata.shape[0],GC_len,len(Parameters)-2])\n",
        "  for i in range(len(Parameters)-2):\n",
        "    for j in range(len(Ndata[Parameters[i]])):\n",
        "      data1[j,:,i]=Ndata[Parameters[i]].to_numpy()[j].reshape(GC_len)\n",
        "  return data1,Participant,Surface,Parameters\n",
        "  \n",
        "#================================Open pickle file================================\n",
        "def open_pickle(path_pickle):\n",
        "    f = open(path_pickle, 'rb')\n",
        "    T = pickle.load(f)\n",
        "    f.close()\n",
        "\n",
        "    return T\n",
        "\n",
        "#================================Seperate signals from IMU data================================\n",
        "def seperate_signals_IMU(type_signal,ALL_data):\n",
        "  if type_signal=='gyro':\n",
        "    ALL_data=ALL_data[:,:,0:36]\n",
        "  elif type_signal=='acc':\n",
        "    ALL_data=ALL_data[:,:,75:-2]\n",
        "\n",
        "  return ALL_data\n",
        "\n",
        "#================================Seperate signals from merged data================================\n",
        "def seperate_signals_merged(type_signal,ALL_data):\n",
        "  if type_signal=='gyro':\n",
        "    ALL_data=ALL_data[:,:,0:36]\n",
        "  elif type_signal=='acc':\n",
        "    ALL_data=ALL_data[:,:,36:83]\n",
        "  elif type_signal=='emg':\n",
        "    ALL_data=ALL_data[:,:,83:108]\n",
        "  return ALL_data"
      ],
      "metadata": {
        "id": "ra2BUgJ-nsMb"
      },
      "execution_count": 53,
      "outputs": []
    },
    {
      "cell_type": "markdown",
      "source": [
        "#EMG DATA GC- No sweat"
      ],
      "metadata": {
        "id": "WF61nqEDqmhg"
      }
    },
    {
      "cell_type": "code",
      "source": [
        "#open pickle\n",
        "ALL_data_NS=open_pickle('/content/drive/MyDrive/Gab/Variables_saved/IMU/ALL_data_NS.pkl')\n",
        "ALL_Surfaces_NS=open_pickle('/content/drive/MyDrive/Gab/Variables_saved/IMU/ALL_Surfaces_NS.pkl')\n",
        "ALL_Participants_numb_NS=open_pickle('/content/drive/MyDrive/Gab/Variables_saved/IMU/ALL_Participants_numb_NS.pkl')"
      ],
      "metadata": {
        "id": "0zRoA3p1xg4l"
      },
      "execution_count": 51,
      "outputs": []
    },
    {
      "cell_type": "code",
      "source": [
        "#seperate emg from all merged data\n",
        "ALL_data_emg=seperate_signals_merged('emg',ALL_data_NS)"
      ],
      "metadata": {
        "id": "XbBzt2YTxaST"
      },
      "execution_count": 54,
      "outputs": []
    },
    {
      "cell_type": "code",
      "source": [
        "#================================Seperate EMG options================================\n",
        "def seperate_EMG_signals(type_signal,ALL_data):\n",
        "  if type_signal=='EMG_raw':\n",
        "    ALL_data=ALL_data_emg[:,:,0:4]\n",
        "  elif type_signal=='EMG_HF':\n",
        "    ALL_data=ALL_data_emg[:,:,4:8]\n",
        "  elif type_signal=='EMG_LF':\n",
        "    ALL_data=ALL_data_emg[:,:,8:13]\n",
        "  elif type_signal=='EMG_rectified':\n",
        "    ALL_data=ALL_data_emg[:,:,13:18]\n",
        "  elif type_signal=='EMG_rms':\n",
        "    ALL_data=ALL_data_emg[:,:,18:22]\n",
        "  elif type_signal=='EMG_Env':\n",
        "    ALL_data=ALL_data_emg[:,:,22:25]\n",
        "  return ALL_data"
      ],
      "metadata": {
        "id": "CvktMvuDuLaG"
      },
      "execution_count": 63,
      "outputs": []
    },
    {
      "cell_type": "code",
      "source": [
        "# 4 signals of only the raw data\n",
        "ALL_data_emg_raw=seperate_EMG_signals('EMG_raw',ALL_data_emg) \n",
        "#individual muscles\n",
        "TA=ALL_data_emg_raw[:,:,0]\n",
        "Gasrtroc=ALL_data_emg_raw[:,:,1]\n",
        "RF=ALL_data_emg_raw[:,:,2]\n",
        "BF=ALL_data_emg_raw[:,:,3]"
      ],
      "metadata": {
        "id": "GNAYJaEQ1xi8"
      },
      "execution_count": 65,
      "outputs": []
    },
    {
      "cell_type": "markdown",
      "source": [
        "#IMU DATA GC (NOT from merged data)"
      ],
      "metadata": {
        "id": "1b0fn72PuK4X"
      }
    },
    {
      "cell_type": "markdown",
      "source": [
        "## Gyroscope data\n"
      ],
      "metadata": {
        "id": "BMfHKfVtxt2D"
      }
    },
    {
      "cell_type": "code",
      "source": [
        "ALL_data_gyro=open_pickle('/content/drive/MyDrive/Gab/Variables_saved/IMU/ALL_data_gyro.pkl')\n",
        "ALL_Surfaces=open_pickle('/content/drive/MyDrive/Gab/Variables_saved/IMU/ALL_Surfaces.pkl')\n",
        "ALL_Participants_numb=open_pickle('/content/drive/MyDrive/Gab/Variables_saved/IMU/ALL_Participants_numb.pkl')"
      ],
      "metadata": {
        "id": "qobgJB8K2kOh"
      },
      "execution_count": 46,
      "outputs": []
    },
    {
      "cell_type": "code",
      "source": [
        "Parameters[0:36]"
      ],
      "metadata": {
        "colab": {
          "base_uri": "https://localhost:8080/"
        },
        "id": "hy4L-8HU1Lb3",
        "outputId": "64c26578-a435-4d4a-f5cd-dd1f7950dca2"
      },
      "execution_count": 38,
      "outputs": [
        {
          "output_type": "execute_result",
          "data": {
            "text/plain": [
              "Index(['SegmentAngularVelocity_Pelvis_x', 'SegmentAngularVelocity_Pelvis_y',\n",
              "       'SegmentAngularVelocity_Pelvis_z',\n",
              "       'SegmentAngularVelocity_Right_Shoulder_x',\n",
              "       'SegmentAngularVelocity_Right_Shoulder_y',\n",
              "       'SegmentAngularVelocity_Right_Shoulder_z',\n",
              "       'SegmentAngularVelocity_Right_Forearm_x',\n",
              "       'SegmentAngularVelocity_Right_Forearm_y',\n",
              "       'SegmentAngularVelocity_Right_Forearm_z',\n",
              "       'SegmentAngularVelocity_Right_Hand_x',\n",
              "       'SegmentAngularVelocity_Right_Hand_y',\n",
              "       'SegmentAngularVelocity_Right_Hand_z',\n",
              "       'SegmentAngularVelocity_Left_Shoulder_x',\n",
              "       'SegmentAngularVelocity_Left_Shoulder_y',\n",
              "       'SegmentAngularVelocity_Left_Shoulder_z',\n",
              "       'SegmentAngularVelocity_Left_Forearm_x',\n",
              "       'SegmentAngularVelocity_Left_Forearm_y',\n",
              "       'SegmentAngularVelocity_Left_Forearm_z',\n",
              "       'SegmentAngularVelocity_Left_Hand_x',\n",
              "       'SegmentAngularVelocity_Left_Hand_y',\n",
              "       'SegmentAngularVelocity_Left_Hand_z',\n",
              "       'SegmentAngularVelocity_Right_Lower_Leg_x',\n",
              "       'SegmentAngularVelocity_Right_Lower_Leg_y',\n",
              "       'SegmentAngularVelocity_Right_Lower_Leg_z',\n",
              "       'SegmentAngularVelocity_Right_Foot_x',\n",
              "       'SegmentAngularVelocity_Right_Foot_y',\n",
              "       'SegmentAngularVelocity_Right_Foot_z',\n",
              "       'SegmentAngularVelocity_Left_Upper_Leg_x',\n",
              "       'SegmentAngularVelocity_Left_Upper_Leg_y',\n",
              "       'SegmentAngularVelocity_Left_Upper_Leg_z',\n",
              "       'SegmentAngularVelocity_Left_Lower_Leg_x',\n",
              "       'SegmentAngularVelocity_Left_Lower_Leg_y',\n",
              "       'SegmentAngularVelocity_Left_Lower_Leg_z',\n",
              "       'SegmentAngularVelocity_Left_Foot_x',\n",
              "       'SegmentAngularVelocity_Left_Foot_y',\n",
              "       'SegmentAngularVelocity_Left_Foot_z'],\n",
              "      dtype='object')"
            ]
          },
          "metadata": {},
          "execution_count": 38
        }
      ]
    },
    {
      "cell_type": "code",
      "source": [
        "#================================Seperate gyro locations================================\n",
        "def seperate_Gyro_signals(type_signal,ALL_data): #seven sensors\n",
        "  if type_signal=='pelvis':\n",
        "    ALL_data=ALL_data[:,:,0:3]\n",
        "  elif type_signal=='right_hand':\n",
        "    ALL_data=ALL_data[:,:,9:12]\n",
        "  elif type_signal=='left_hand':\n",
        "    ALL_data=ALL_data[:,:,18:21]\n",
        "  elif type_signal=='right_lower_leg':\n",
        "    ALL_data=ALL_data[:,:,21:24]\n",
        "  elif type_signal=='right_foot':\n",
        "    ALL_data=ALL_data[:,:,24:27]\n",
        "  elif type_signal=='left_lower_leg':\n",
        "    ALL_data=ALL_data[:,:,30:33]\n",
        "  elif type_signal=='left_foot':\n",
        "    ALL_data=ALL_data[:,:,33:36]\n",
        "  return ALL_data"
      ],
      "metadata": {
        "id": "acrnPAWWuOlb"
      },
      "execution_count": 69,
      "outputs": []
    },
    {
      "cell_type": "code",
      "source": [
        "ALL_data_pelvis=seperate_Gyro_signals('pelvis',ALL_data_gyro)\n",
        "ALL_data_pelvis"
      ],
      "metadata": {
        "colab": {
          "base_uri": "https://localhost:8080/"
        },
        "id": "29lxqfo327M9",
        "outputId": "d3e13f64-a4a6-4c3c-fd2a-f0f27aa04213"
      },
      "execution_count": 71,
      "outputs": [
        {
          "output_type": "execute_result",
          "data": {
            "text/plain": [
              "<tf.Tensor: shape=(45024, 101, 3), dtype=float64, numpy=\n",
              "array([[[ 0.14543989, -0.00869755,  0.11431923],\n",
              "        [ 0.12224121,  0.10967154, -0.17790773],\n",
              "        [ 0.08433607,  0.15815113, -0.43876639],\n",
              "        ...,\n",
              "        [ 0.28992188,  0.50817191,  1.37752493],\n",
              "        [ 0.45481752,  0.5504017 ,  1.3813469 ],\n",
              "        [ 0.44017479,  0.49617832,  1.35676095]],\n",
              "\n",
              "       [[-0.1334017 , -0.66557628, -1.23538555],\n",
              "        [ 0.11154364, -0.6241136 , -0.78559142],\n",
              "        [ 0.24731627, -0.65675074, -0.54759963],\n",
              "        ...,\n",
              "        [-0.36732847, -0.63769836, -1.84030346],\n",
              "        [-0.30065694, -0.64771822, -1.40614572],\n",
              "        [-0.21205965, -0.51223887, -1.15743909]],\n",
              "\n",
              "       [[-0.21205965, -0.51223887, -1.15743909],\n",
              "        [-0.16890124, -0.37719603, -1.21006984],\n",
              "        [-0.10758459, -0.25471137, -1.25437289],\n",
              "        ...,\n",
              "        [-0.19579747,  0.31955202, -1.8209067 ],\n",
              "        [-0.91121175,  0.24120687, -2.49808864],\n",
              "        [-1.54106134,  0.22447588, -1.35461542]],\n",
              "\n",
              "       ...,\n",
              "\n",
              "       [[-0.6240245 , -0.55138913,  0.48797186],\n",
              "        [-0.11819714, -0.41067098,  1.18553723],\n",
              "        [ 0.47019095, -0.23298839,  1.90897179],\n",
              "        ...,\n",
              "        [-0.73234048, -1.05211305, -1.22463661],\n",
              "        [-0.41470219, -0.73452466, -0.76726111],\n",
              "        [-0.21095489, -0.46111897, -0.11821968]],\n",
              "\n",
              "       [[-0.21095489, -0.46111897, -0.11821968],\n",
              "        [ 0.0498527 , -0.30545751,  0.44260256],\n",
              "        [ 0.37987397, -0.18030218,  1.02980002],\n",
              "        ...,\n",
              "        [-0.65689857, -0.93538978, -0.43109905],\n",
              "        [-0.51863759, -0.83684382, -0.36079178],\n",
              "        [-0.30845494, -0.72387858,  0.01728572]],\n",
              "\n",
              "       [[-0.30845494, -0.72387858,  0.01728572],\n",
              "        [-0.0359203 , -0.61206343,  0.50886429],\n",
              "        [ 0.27073643, -0.4833605 ,  0.91371328],\n",
              "        ...,\n",
              "        [-0.38031953, -0.97791558, -0.78929752],\n",
              "        [-0.14743404, -0.89892004, -0.62689659],\n",
              "        [ 0.15137524, -0.87407004, -0.31093062]]])>"
            ]
          },
          "metadata": {},
          "execution_count": 71
        }
      ]
    },
    {
      "cell_type": "markdown",
      "source": [
        "## Acceleration data"
      ],
      "metadata": {
        "id": "Ovf3tR2zqpyE"
      }
    },
    {
      "cell_type": "code",
      "source": [
        "ALL_data_acc=open_pickle('/content/drive/MyDrive/Gab/Variables_saved/IMU/ALL_data_acc.pkl')\n",
        "ALL_Surfaces=open_pickle('/content/drive/MyDrive/Gab/Variables_saved/IMU/ALL_Surfaces.pkl')\n",
        "ALL_Participants_numb=open_pickle('/content/drive/MyDrive/Gab/Variables_saved/IMU/ALL_Participants_numb.pkl')"
      ],
      "metadata": {
        "id": "vgaC9shw2vyc"
      },
      "execution_count": 47,
      "outputs": []
    },
    {
      "cell_type": "code",
      "source": [
        "Parameters[75:-2]"
      ],
      "metadata": {
        "colab": {
          "base_uri": "https://localhost:8080/"
        },
        "id": "YHqrmDJF1eEF",
        "outputId": "6118aee0-2a64-48da-d8c2-10508d0abd3e"
      },
      "execution_count": 45,
      "outputs": [
        {
          "output_type": "execute_result",
          "data": {
            "text/plain": [
              "Index(['SensorFreeAcceleration_Pelvis_x', 'SensorFreeAcceleration_Pelvis_y',\n",
              "       'SensorFreeAcceleration_Pelvis_z', 'SensorFreeAcceleration_Head_x',\n",
              "       'SensorFreeAcceleration_Head_y', 'SensorFreeAcceleration_Head_z',\n",
              "       'SensorFreeAcceleration_Right_Shoulder_x',\n",
              "       'SensorFreeAcceleration_Right_Shoulder_y',\n",
              "       'SensorFreeAcceleration_Right_Shoulder_z',\n",
              "       'SensorFreeAcceleration_Right_Upper_Arm_x',\n",
              "       'SensorFreeAcceleration_Right_Upper_Arm_y',\n",
              "       'SensorFreeAcceleration_Right_Upper_Arm_z',\n",
              "       'SensorFreeAcceleration_Right_Forearm_x',\n",
              "       'SensorFreeAcceleration_Right_Forearm_y',\n",
              "       'SensorFreeAcceleration_Right_Forearm_z',\n",
              "       'SensorFreeAcceleration_Right_Hand_x',\n",
              "       'SensorFreeAcceleration_Right_Hand_y',\n",
              "       'SensorFreeAcceleration_Right_Hand_z',\n",
              "       'SensorFreeAcceleration_Left_Shoulder_x',\n",
              "       'SensorFreeAcceleration_Left_Shoulder_y',\n",
              "       'SensorFreeAcceleration_Left_Shoulder_z',\n",
              "       'SensorFreeAcceleration_Left_Upper_Arm_x',\n",
              "       'SensorFreeAcceleration_Left_Upper_Arm_y',\n",
              "       'SensorFreeAcceleration_Left_Upper_Arm_z',\n",
              "       'SensorFreeAcceleration_Left_Forearm_x',\n",
              "       'SensorFreeAcceleration_Left_Forearm_y',\n",
              "       'SensorFreeAcceleration_Left_Forearm_z',\n",
              "       'SensorFreeAcceleration_Left_Hand_x',\n",
              "       'SensorFreeAcceleration_Left_Hand_y',\n",
              "       'SensorFreeAcceleration_Left_Hand_z',\n",
              "       'SensorFreeAcceleration_Right_Upper_Leg_x',\n",
              "       'SensorFreeAcceleration_Right_Upper_Leg_y',\n",
              "       'SensorFreeAcceleration_Right_Upper_Leg_z',\n",
              "       'SensorFreeAcceleration_Right_Lower_Leg_x',\n",
              "       'SensorFreeAcceleration_Right_Lower_Leg_y',\n",
              "       'SensorFreeAcceleration_Right_Lower_Leg_z',\n",
              "       'SensorFreeAcceleration_Right_Foot_x',\n",
              "       'SensorFreeAcceleration_Right_Foot_y',\n",
              "       'SensorFreeAcceleration_Right_Foot_z',\n",
              "       'SensorFreeAcceleration_Left_Upper_Leg_x',\n",
              "       'SensorFreeAcceleration_Left_Upper_Leg_y',\n",
              "       'SensorFreeAcceleration_Left_Upper_Leg_z',\n",
              "       'SensorFreeAcceleration_Left_Lower_Leg_x',\n",
              "       'SensorFreeAcceleration_Left_Lower_Leg_y',\n",
              "       'SensorFreeAcceleration_Left_Lower_Leg_z',\n",
              "       'SensorFreeAcceleration_Left_Foot_x',\n",
              "       'SensorFreeAcceleration_Left_Foot_y',\n",
              "       'SensorFreeAcceleration_Left_Foot_z'],\n",
              "      dtype='object')"
            ]
          },
          "metadata": {},
          "execution_count": 45
        }
      ]
    },
    {
      "cell_type": "code",
      "source": [
        "#================================Seperate acceleration locations================================\n",
        "def seperate_Acc_signals(type_signal,ALL_data):\n",
        "  if type_signal=='pelvis':\n",
        "    ALL_data=ALL_data[:,:,0:3]\n",
        "  elif type_signal=='head':\n",
        "    ALL_data=ALL_data[:,:,3:6]\n",
        "  elif type_signal=='right_hand':\n",
        "    ALL_data=ALL_data[:,:,15:18]\n",
        "  elif type_signal=='left_hand':\n",
        "    ALL_data=ALL_data[:,:,27:30]\n",
        "  elif type_signal=='right_lower_leg':\n",
        "    ALL_data=ALL_data[:,:,33:36]\n",
        "  elif type_signal=='right_foot':\n",
        "    ALL_data=ALL_data[:,:,36:39]\n",
        "  elif type_signal=='left_lower_leg':\n",
        "    ALL_data=ALL_data[:,:,42:45]\n",
        "  elif type_signal=='left_foot':\n",
        "    ALL_data=ALL_data[:,:,45:48]\n",
        "  return ALL_data"
      ],
      "metadata": {
        "id": "Up5Oqhhtum5-"
      },
      "execution_count": 67,
      "outputs": []
    },
    {
      "cell_type": "code",
      "source": [
        "ALL_data_left_foot=seperate_Acc_signals('left_foot',ALL_data_acc)\n",
        "ALL_data_left_foot"
      ],
      "metadata": {
        "colab": {
          "base_uri": "https://localhost:8080/"
        },
        "id": "yUMNEtJs3Ift",
        "outputId": "f4d53576-16c2-4ce9-9877-849779517aec"
      },
      "execution_count": 68,
      "outputs": [
        {
          "output_type": "execute_result",
          "data": {
            "text/plain": [
              "<tf.Tensor: shape=(45024, 101, 3), dtype=float64, numpy=\n",
              "array([[[-1.08536526e+01,  1.45401147e+00, -1.04431220e+01],\n",
              "        [-1.01404660e+01, -5.58895969e-01, -1.32171151e+01],\n",
              "        [-7.49725740e+00, -2.45849305e+00, -1.36969807e+01],\n",
              "        ...,\n",
              "        [-2.45466125e+00, -5.46830487e-01, -5.11505484e-01],\n",
              "        [-3.69482065e+00,  5.38870314e-01, -5.03506260e-01],\n",
              "        [-4.21732720e+00,  1.45617420e+00, -4.72367625e-02]],\n",
              "\n",
              "       [[ 3.60486822e+01, -1.85678767e+00, -1.05885091e+01],\n",
              "        [ 3.34380815e+01, -2.88121735e+00, -1.28259187e+01],\n",
              "        [ 3.03055050e+01, -4.27519862e+00, -1.47599301e+01],\n",
              "        ...,\n",
              "        [ 3.69415888e+01, -5.76096569e+00, -7.00468226e+00],\n",
              "        [ 3.36503717e+01, -5.74432620e+00, -1.09605467e+01],\n",
              "        [ 3.17347230e+01, -4.42403582e+00, -1.40063456e+01]],\n",
              "\n",
              "       [[ 3.17347230e+01, -4.42403582e+00, -1.40063456e+01],\n",
              "        [ 3.19370032e+01, -3.14792601e+00, -1.51500565e+01],\n",
              "        [ 3.19803430e+01, -2.29810642e+00, -1.60925488e+01],\n",
              "        ...,\n",
              "        [ 4.33428809e+00, -1.14163189e+00,  1.91905633e+00],\n",
              "        [ 2.30175486e+00,  1.47337500e+00,  1.90035602e+00],\n",
              "        [-8.17416825e-01,  4.40871872e+00,  1.47608280e+00]],\n",
              "\n",
              "       ...,\n",
              "\n",
              "       [[-1.55048554e+01, -6.28228234e+01, -8.52105252e+00],\n",
              "        [-2.17857853e+01, -5.56336649e+01, -1.43900843e+01],\n",
              "        [-2.67166821e+01, -5.10226263e+01, -2.08726517e+01],\n",
              "        ...,\n",
              "        [-1.53216052e+01, -5.82374190e+01,  1.39730007e+00],\n",
              "        [-1.75367022e+01, -5.70861367e+01, -4.32803498e+00],\n",
              "        [-1.92550583e+01, -5.26984617e+01, -1.20274167e+01]],\n",
              "\n",
              "       [[-1.92550583e+01, -5.26984617e+01, -1.20274167e+01],\n",
              "        [-1.90646460e+01, -4.68829350e+01, -1.86673439e+01],\n",
              "        [-1.88165343e+01, -4.20586924e+01, -2.36084095e+01],\n",
              "        ...,\n",
              "        [-5.72897761e+00, -4.30432357e+01,  3.93528359e+00],\n",
              "        [-7.51818262e+00, -4.44339926e+01,  1.78278965e+00],\n",
              "        [-1.01162185e+01, -4.51018465e+01, -3.57438389e+00]],\n",
              "\n",
              "       [[-1.01162185e+01, -4.51018465e+01, -3.57438389e+00],\n",
              "        [-1.28656892e+01, -4.48710328e+01, -5.36582309e+00],\n",
              "        [-1.49215066e+01, -4.38434756e+01, -9.40107373e+00],\n",
              "        ...,\n",
              "        [-1.08914781e+01, -2.70310638e+01,  3.07688966e+00],\n",
              "        [-1.38589671e+01, -2.87783512e+01,  1.74469013e+00],\n",
              "        [-1.74837015e+01, -3.04532315e+01,  2.05271368e-01]]])>"
            ]
          },
          "metadata": {},
          "execution_count": 68
        }
      ]
    }
  ]
}