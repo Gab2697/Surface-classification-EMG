{
  "nbformat": 4,
  "nbformat_minor": 0,
  "metadata": {
    "colab": {
      "name": "IMU_BiomecZoo_AI.ipynb",
      "provenance": [],
      "authorship_tag": "ABX9TyMTN7YmgLbyjAlcCC1jPdV1",
      "include_colab_link": true
    },
    "kernelspec": {
      "name": "python3",
      "display_name": "Python 3"
    },
    "language_info": {
      "name": "python"
    }
  },
  "cells": [
    {
      "cell_type": "markdown",
      "metadata": {
        "id": "view-in-github",
        "colab_type": "text"
      },
      "source": [
        "<a href=\"https://colab.research.google.com/github/Gab2697/Surface-classification-EMG/blob/main/IMU_BiomecZoo_AI.ipynb\" target=\"_parent\"><img src=\"https://colab.research.google.com/assets/colab-badge.svg\" alt=\"Open In Colab\"/></a>"
      ]
    },
    {
      "cell_type": "code",
      "source": [
        "#import\n",
        "import pandas as pd\n",
        "import tensorflow as tf\n",
        "import numpy as np\n",
        "import pickle\n",
        "import matplotlib.pyplot as plt\n",
        "from scipy.io import loadmat\n",
        "\n",
        "from keras import layers \n",
        "from keras import models\n",
        "from keras import regularizers\n",
        "import glob\n",
        "\n",
        "from sklearn.model_selection import KFold\n",
        "from tensorflow.keras.models import Sequential\n",
        "from tensorflow.keras.layers import Dense, Flatten, Conv1D, MaxPooling1D, Dropout\n",
        "from tensorflow.keras.losses import binary_crossentropy, categorical_crossentropy\n",
        "from tensorflow.keras.optimizers import Adam, SGD, RMSprop"
      ],
      "metadata": {
        "id": "cj7CIfKL2kvj"
      },
      "execution_count": 1,
      "outputs": []
    },
    {
      "cell_type": "code",
      "source": [
        "from google.colab import drive\n",
        "drive.mount('/content/drive')"
      ],
      "metadata": {
        "colab": {
          "base_uri": "https://localhost:8080/"
        },
        "id": "7EowbmE82dD0",
        "outputId": "2f471285-653f-4318-c7a6-985a06877bc4"
      },
      "execution_count": 3,
      "outputs": [
        {
          "output_type": "stream",
          "name": "stdout",
          "text": [
            "Mounted at /content/drive\n"
          ]
        }
      ]
    },
    {
      "cell_type": "markdown",
      "source": [
        "#Functions"
      ],
      "metadata": {
        "id": "iaK4A4rxo783"
      }
    },
    {
      "cell_type": "code",
      "source": [
        "#================================mat to tensor================================\n",
        "def mat_to_tensor(path_mat):\n",
        "  data=loadmat(path_mat)\n",
        "  keys=list(data['data'].dtype.fields.keys())\n",
        "  da=np.array(data['data'][keys[0]])\n",
        "  for i in range(1,len(keys)-2):\n",
        "      da=np.append(da,data['data'][keys[i]],axis=1)\n",
        "  da=np.append(da,data['data'][keys[-2]],axis=1)\n",
        "  da=np.append(da,data['data'][keys[-1]],axis=1)\n",
        "  da=pd.DataFrame(da,columns=keys)\n",
        "  Participant= da['Subject']\n",
        "  Surface= da['Conditions'] \n",
        "  # from 2d to 3d\n",
        "  Ndata=da\n",
        "  Parameters=Ndata.keys()\n",
        "  GC_len=Ndata.iloc[1,1].shape[0]\n",
        "  data1=np.zeros([Ndata.shape[0],GC_len,len(Parameters)-2])\n",
        "  for i in range(len(Parameters)-2):\n",
        "    for j in range(len(Ndata[Parameters[i]])):\n",
        "      data1[j,:,i]=Ndata[Parameters[i]].to_numpy()[j].reshape(GC_len)\n",
        "  return data1,Participant,Surface\n",
        "#================================Save pickle file================================\n",
        "def save_pickle(path_pickle,T):\n",
        "    f = open(path_pickle, 'wb')\n",
        "    pickle.dump(T, f)\n",
        "    f.close()\n",
        "\n",
        "    return f \n",
        "#================================Open pickle file================================\n",
        "def open_pickle(path_pickle):\n",
        "    f = open(path_pickle, 'rb')\n",
        "    T = pickle.load(f)\n",
        "    f.close()\n",
        "\n",
        "    return T\n",
        "#================================final prep CNN================================\n",
        "def final_prep(data):\n",
        "  #seperate train and test set\n",
        "  train_index,test_index,extract=subject_wise_split(np.array(Participant),split=0.15,subject_wise=False,seed=5)\n",
        "  train_index,test_index=train_index.astype('int64'),test_index.astype('int64')   \n",
        "\n",
        "  X_train=data[train_index]\n",
        "  X_test=data[test_index]\n",
        "  y_train=Surface[train_index]\n",
        "  y_test=Surface[test_index]\n",
        "\n",
        "  y_train=y_train.to_numpy()\n",
        "  y_test=y_test.to_numpy()\n",
        "\n",
        "  #one hot encoding for label\n",
        "  X_train=np.asarray(X_train).astype(np.float32) \n",
        "  y_train=one_hot(y_train)\n",
        "  X_test=np.asarray(X_test).astype(np.float32) \n",
        "  y_test=one_hot(y_test)\n",
        "  return X_train,y_train,X_test,y_test\n",
        "  \n",
        "#================================subject wise split================================\n",
        "def subject_wise_split(Participant,subject_wise,split=0.10,seed=42):\n",
        "    np.random.seed(seed)\n",
        "    if subject_wise:\n",
        "        UniqParti=np.unique(Participant)\n",
        "        num=np.round(UniqParti.shape[0]*split).astype('int64')\n",
        "        np.random.shuffle(UniqParti)\n",
        "        extract=UniqParti[0:num]\n",
        "        test_index=np.array([],dtype='int64')\n",
        "        for j in extract:\n",
        "            test_index=np.append(test_index,np.where(Participant==j)[0])\n",
        "        train_index=np.delete(np.arange(len(Participant)),test_index)\n",
        "        np.random.shuffle(test_index)\n",
        "        np.random.shuffle(train_index)\n",
        "\n",
        "    else:\n",
        "        I=np.arange(len(Participant)).astype('int64')\n",
        "        np.random.shuffle(I)\n",
        "        num=np.round(Participant.shape[0]*split).astype('int64')\n",
        "        test_index=I[0:num]\n",
        "        train_index=I[num:]\n",
        "        extract=np.unique(Participant[test_index])\n",
        "    return train_index,test_index,extract\n",
        "\n",
        "#================================One Hot encoding================================\n",
        "def one_hot(y):\n",
        "    uniq=np.unique(y)\n",
        "    y_hot=np.zeros([y.shape[0],uniq.shape[0]])\n",
        "    for i in range(len(uniq)):\n",
        "        index=np.where(y==uniq[i])[0]\n",
        "        y_hot[index,i]=1\n",
        "    surface_name=uniq\n",
        "    return y_hot\n",
        "#================================CNN================================\n",
        "def CNN_test(input_shape,output_shape):\n",
        "    model = tf.keras.models.Sequential()\n",
        "    model.add(Conv1D(filters=64, kernel_size=3, activation='relu', input_shape=input_shape))\n",
        "    model.add(Conv1D(filters=64, kernel_size=3, activation='relu'))\n",
        "    model.add(Dropout(0.5))\n",
        "    model.add(MaxPooling1D(pool_size=2))\n",
        "    model.add(Flatten())\n",
        "    model.add(Dense(100, activation='relu'))\n",
        "    model.add(Dense(2, activation='sigmoid'))\n",
        "    model.compile(loss='binary_crossentropy', optimizer='adam', metrics=['accuracy'])\n",
        "    return model"
      ],
      "metadata": {
        "id": "vCRmsomS2cwp"
      },
      "execution_count": 90,
      "outputs": []
    },
    {
      "cell_type": "code",
      "source": [
        "#call function for Participant 1,2,3,4,5,7,8,9\n",
        "data_12345789,Participant,Surface=mat_to_tensor('/content/drive/MyDrive/Gab/mat files/P12345789.mat')#P12345789\n",
        "data_12345789.shape"
      ],
      "metadata": {
        "colab": {
          "base_uri": "https://localhost:8080/"
        },
        "id": "P4ehI8ECs78l",
        "outputId": "713a3e25-2d85-4188-d778-36b925002115"
      },
      "execution_count": 92,
      "outputs": [
        {
          "output_type": "execute_result",
          "data": {
            "text/plain": [
              "(8112, 101, 123)"
            ]
          },
          "metadata": {},
          "execution_count": 92
        }
      ]
    },
    {
      "cell_type": "code",
      "source": [
        "#save pickle file \n",
        "data_12345789=save_pickle('/content/drive/MyDrive/Gab/Variables_saved/IMU/data_12345789.pkl',data_12345789)"
      ],
      "metadata": {
        "id": "HpzxcF-Zr8JH"
      },
      "execution_count": 94,
      "outputs": []
    },
    {
      "cell_type": "code",
      "source": [
        "#open pickle\n",
        "data_12345789=open_pickle('/content/drive/MyDrive/Gab/Variables_saved/IMU/data_12345789.pkl')"
      ],
      "metadata": {
        "id": "L2pLgFlTfTiD"
      },
      "execution_count": 95,
      "outputs": []
    },
    {
      "cell_type": "code",
      "source": [
        "#call split and final labelling function\n",
        "X_train,y_train,X_test,y_test=final_prep(data_12345789)"
      ],
      "metadata": {
        "id": "lynGA6FwcaP9"
      },
      "execution_count": 97,
      "outputs": []
    },
    {
      "cell_type": "markdown",
      "source": [
        "#CNN"
      ],
      "metadata": {
        "id": "XRtNrLEFziAo"
      }
    },
    {
      "cell_type": "code",
      "source": [
        "#call model\n",
        "model=CNN_test(X_train.shape[1:],2)\n",
        "#train model\n",
        "history= model.fit(X_train,y_train, epochs=10, batch_size=200,validation_data=(X_test,y_test)) "
      ],
      "metadata": {
        "colab": {
          "base_uri": "https://localhost:8080/"
        },
        "id": "jGa4cVUecebI",
        "outputId": "79e73d77-18e8-49ec-8488-35b416df1496"
      },
      "execution_count": 98,
      "outputs": [
        {
          "output_type": "stream",
          "name": "stdout",
          "text": [
            "Epoch 1/10\n",
            "35/35 [==============================] - 6s 138ms/step - loss: 3.7265 - accuracy: 0.5211 - val_loss: 0.6917 - val_accuracy: 0.5481\n",
            "Epoch 2/10\n",
            "35/35 [==============================] - 5s 133ms/step - loss: 0.6826 - accuracy: 0.5630 - val_loss: 0.6749 - val_accuracy: 0.6179\n",
            "Epoch 3/10\n",
            "35/35 [==============================] - 7s 204ms/step - loss: 0.6640 - accuracy: 0.5952 - val_loss: 0.6568 - val_accuracy: 0.6204\n",
            "Epoch 4/10\n",
            "35/35 [==============================] - 5s 134ms/step - loss: 0.6292 - accuracy: 0.6542 - val_loss: 0.6338 - val_accuracy: 0.6984\n",
            "Epoch 5/10\n",
            "35/35 [==============================] - 5s 155ms/step - loss: 0.5903 - accuracy: 0.7062 - val_loss: 0.5736 - val_accuracy: 0.7535\n",
            "Epoch 6/10\n",
            "35/35 [==============================] - 7s 186ms/step - loss: 0.4941 - accuracy: 0.7659 - val_loss: 0.4460 - val_accuracy: 0.8069\n",
            "Epoch 7/10\n",
            "35/35 [==============================] - 11s 310ms/step - loss: 0.4002 - accuracy: 0.8146 - val_loss: 0.4249 - val_accuracy: 0.8053\n",
            "Epoch 8/10\n",
            "35/35 [==============================] - 6s 157ms/step - loss: 0.3419 - accuracy: 0.8513 - val_loss: 0.3627 - val_accuracy: 0.8439\n",
            "Epoch 9/10\n",
            "35/35 [==============================] - 5s 137ms/step - loss: 0.2746 - accuracy: 0.8856 - val_loss: 0.3435 - val_accuracy: 0.8373\n",
            "Epoch 10/10\n",
            "35/35 [==============================] - 9s 264ms/step - loss: 0.2360 - accuracy: 0.9027 - val_loss: 0.2839 - val_accuracy: 0.8858\n"
          ]
        }
      ]
    },
    {
      "cell_type": "code",
      "source": [
        "#plot train/validation loss and train/validation accuracy \n",
        "history_dict = history.history\n",
        "loss_values=history_dict['loss']\n",
        "epochs = range(1, len(loss_values) + 1)\n",
        "plt.plot(epochs,history_dict['loss'])\n",
        "plt.plot(epochs, history_dict['val_loss'])\n",
        "plt.title('Model loss')\n",
        "plt.ylabel('Loss')\n",
        "plt.xlabel('Epochs')\n",
        "plt.legend(['train', 'val'], loc='upper left')\n",
        "plt.show()\n",
        "\n",
        "accuracy_values = history_dict['accuracy']\n",
        "val_accuracy= history_dict['val_accuracy']\n",
        "plt.plot(epochs, accuracy_values)\n",
        "plt.plot(epochs, val_accuracy)\n",
        "plt.title('Accuracy of training and validation set') \n",
        "plt.xlabel('Epochs')\n",
        "plt.ylabel('Accuracy')\n",
        "plt.legend(['train', 'val'], loc='upper left')\n",
        "plt.show()"
      ],
      "metadata": {
        "colab": {
          "base_uri": "https://localhost:8080/",
          "height": 573
        },
        "id": "QlxN4gBeceXf",
        "outputId": "7434cd97-9024-4faf-c3f8-ce21d0db1be5"
      },
      "execution_count": 99,
      "outputs": [
        {
          "output_type": "display_data",
          "data": {
            "text/plain": [
              "<Figure size 432x288 with 1 Axes>"
            ],
            "image/png": "[encoded data removed]"
          },
          "metadata": {
            "needs_background": "light"
          }
        },
        {
          "output_type": "display_data",
          "data": {
            "text/plain": [
              "<Figure size 432x288 with 1 Axes>"
            ],
            "image/png": "[encoded data removed]"
          },
          "metadata": {
            "needs_background": "light"
          }
        }
      ]
    },
    {
      "cell_type": "code",
      "source": [
        ""
      ],
      "metadata": {
        "id": "pyB7FFxVzQuV"
      },
      "execution_count": null,
      "outputs": []
    },
    {
      "cell_type": "markdown",
      "source": [
        "#Channels available"
      ],
      "metadata": {
        "id": "3CGmagQrzlAm"
      }
    },
    {
      "cell_type": "code",
      "source": [
        "#channels \n",
        "data= ['SegmentAngularVelocity_Pelvis_x','SegmentAngularVelocity_Pelvis_y','SegmentAngularVelocity_Pelvis_z','SegmentAngularVelocity_Right_Shoulder_x',\n",
        "    'SegmentAngularVelocity_Right_Shoulder_y','SegmentAngularVelocity_Right_Shoulder_z','SegmentAngularVelocity_Right_Forearm_x','SegmentAngularVelocity_Right_Forearm_y',\n",
        "    'SegmentAngularVelocity_Right_Forearm_z','SegmentAngularVelocity_Right_Hand_x','SegmentAngularVelocity_Right_Hand_y','SegmentAngularVelocity_Right_Hand_z',\n",
        "    'SegmentAngularVelocity_Left_Shoulder_x','SegmentAngularVelocity_Left_Shoulder_y','SegmentAngularVelocity_Left_Shoulder_z',\n",
        "    'SegmentAngularVelocity_Left_Forearm_x','SegmentAngularVelocity_Left_Forearm_y','SegmentAngularVelocity_Left_Forearm_z','SegmentAngularVelocity_Left_Hand_x',\n",
        "    'SegmentAngularVelocity_Left_Hand_y','SegmentAngularVelocity_Left_Hand_z','SegmentAngularVelocity_Right_Lower_Leg_x','SegmentAngularVelocity_Right_Lower_Leg_y',\n",
        "    'SegmentAngularVelocity_Right_Lower_Leg_z','SegmentAngularVelocity_Right_Foot_x','SegmentAngularVelocity_Right_Foot_y','SegmentAngularVelocity_Right_Foot_z',\n",
        "    'SegmentAngularVelocity_Left_Upper_Leg_x','SegmentAngularVelocity_Left_Upper_Leg_y','SegmentAngularVelocity_Left_Upper_Leg_z','SegmentAngularVelocity_Left_Lower_Leg_x',\n",
        "    'SegmentAngularVelocity_Left_Lower_Leg_y','SegmentAngularVelocity_Left_Lower_Leg_z','SegmentAngularVelocity_Left_Foot_x','SegmentAngularVelocity_Left_Foot_y','SegmentAngularVelocity_Left_Foot_z',\n",
        "    'JointAnglesZXY_C1_Head_Lateral_Bending','JointAnglesZXY_C1_Head_Axial_Rotation','JointAnglesZXY_C1_Head_Flexion_Extension','JointAnglesZXY_Right_Shoulder_Abduction_Adduction',\n",
        "    'JointAnglesZXY_Right_Shoulder_Internal_External_Rotation','JointAnglesZXY_Right_Shoulder_Flexion_Extension', 'JointAnglesZXY_Right_Elbow_Ulnar_Deviation_Radial_Deviation',\n",
        "    'JointAnglesZXY_Right_Elbow_Pronation_Supination', 'JointAnglesZXY_Right_Elbow_Flexion_Extension','JointAnglesZXY_Right_Wrist_Ulnar_Deviation_Radial_Deviation',\n",
        "    'JointAnglesZXY_Right_Wrist_Pronation_Supination','JointAnglesZXY_Right_Wrist_Flexion_Extension','JointAnglesZXY_Left_Shoulder_Abduction_Adduction','JointAnglesZXY_Left_Shoulder_Internal_External_Rotation',\n",
        "    'JointAnglesZXY_Left_Shoulder_Flexion_Extension','JointAnglesZXY_Left_Elbow_Ulnar_Deviation_Radial_Deviation', 'JointAnglesZXY_Left_Elbow_Pronation_Supination', 'JointAnglesZXY_Left_Elbow_Flexion_Extension',\n",
        "    'JointAnglesZXY_Left_Wrist_Ulnar_Deviation_Radial_Deviation','JointAnglesZXY_Left_Wrist_Pronation_Supination', 'JointAnglesZXY_Left_Wrist_Flexion_Extension', 'JointAnglesZXY_Right_Hip_Abduction_Adduction',\n",
        "    'JointAnglesZXY_Right_Hip_Internal_External_Rotation', 'JointAnglesZXY_Right_Hip_Flexion_Extension', 'JointAnglesZXY_Right_Knee_Abduction_Adduction', 'JointAnglesZXY_Right_Knee_Internal_External_Rotation',\n",
        "    'JointAnglesZXY_Right_Knee_Flexion_Extension', 'JointAnglesZXY_Right_Ankle_Abduction_Adduction', 'JointAnglesZXY_Right_Ankle_Internal_External_Rotation','JointAnglesZXY_Right_Ankle_Dorsiflexion_Plantarflexion',\n",
        "    'JointAnglesZXY_Left_Hip_Abduction_Adduction', 'JointAnglesZXY_Left_Hip_Internal_External_Rotation', 'JointAnglesZXY_Left_Hip_Flexion_Extension', 'JointAnglesZXY_Left_Knee_Abduction_Adduction', \n",
        "    'JointAnglesZXY_Left_Knee_Internal_External_Rotation', 'JointAnglesZXY_Left_Knee_Flexion_Extension', 'JointAnglesZXY_Left_Ankle_Abduction_Adduction', 'JointAnglesZXY_Left_Ankle_Internal_External_Rotation',\n",
        "    'JointAnglesZXY_Left_Ankle_Dorsiflexion_Plantarflexion',\n",
        "    'SensorFreeAcceleration_Pelvis_x','SensorFreeAcceleration_Pelvis_y','SensorFreeAcceleration_Pelvis_z','SensorFreeAcceleration_Head_x','SensorFreeAcceleration_Head_y','SensorFreeAcceleration_Head_z',\n",
        "    'SensorFreeAcceleration_Right_Shoulder_x','SensorFreeAcceleration_Right_Shoulder_y','SensorFreeAcceleration_Right_Shoulder_z','SensorFreeAcceleration_Right_Upper_Arm_x','SensorFreeAcceleration_Right_Upper_Arm_y',\n",
        "    'SensorFreeAcceleration_Right_Upper_Arm_z','SensorFreeAcceleration_Right_Forearm_x','SensorFreeAcceleration_Right_Forearm_y','SensorFreeAcceleration_Right_Forearm_z','SensorFreeAcceleration_Right_Hand_x','SensorFreeAcceleration_Right_Hand_y',\n",
        "    'SensorFreeAcceleration_Right_Hand_z','SensorFreeAcceleration_Left_Shoulder_x','SensorFreeAcceleration_Left_Shoulder_y','SensorFreeAcceleration_Left_Shoulder_z','SensorFreeAcceleration_Left_Upper_Arm_x',\n",
        "    'SensorFreeAcceleration_Left_Upper_Arm_y','SensorFreeAcceleration_Left_Upper_Arm_z','SensorFreeAcceleration_Left_Forearm_x','SensorFreeAcceleration_Left_Forearm_y','SensorFreeAcceleration_Left_Forearm_z',\n",
        "    'SensorFreeAcceleration_Left_Hand_x','SensorFreeAcceleration_Left_Hand_y','SensorFreeAcceleration_Left_Hand_z','SensorFreeAcceleration_Right_Upper_Leg_x','SensorFreeAcceleration_Right_Upper_Leg_y','SensorFreeAcceleration_Right_Upper_Leg_z',\n",
        "    'SensorFreeAcceleration_Right_Lower_Leg_x','SensorFreeAcceleration_Right_Lower_Leg_y','SensorFreeAcceleration_Right_Lower_Leg_z','SensorFreeAcceleration_Right_Foot_x','SensorFreeAcceleration_Right_Foot_y',\n",
        "    'SensorFreeAcceleration_Right_Foot_z','SensorFreeAcceleration_Left_Upper_Leg_x','SensorFreeAcceleration_Left_Upper_Leg_y','SensorFreeAcceleration_Left_Upper_Leg_z','SensorFreeAcceleration_Left_Lower_Leg_x',\n",
        "    'SensorFreeAcceleration_Left_Lower_Leg_y','SensorFreeAcceleration_Left_Lower_Leg_z','SensorFreeAcceleration_Left_Foot_x','SensorFreeAcceleration_Left_Foot_y','SensorFreeAcceleration_Left_Foot_z']  "
      ],
      "metadata": {
        "id": "1vwoOBChceMt"
      },
      "execution_count": null,
      "outputs": []
    }
  ]
}